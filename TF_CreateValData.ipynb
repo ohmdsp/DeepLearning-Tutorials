{
 "cells": [
  {
   "cell_type": "markdown",
   "metadata": {},
   "source": [
    "# Create Validation Data\n",
    "Extract data from dataset for validation."
   ]
  },
  {
   "cell_type": "markdown",
   "metadata": {},
   "source": [
    "## Imports"
   ]
  },
  {
   "cell_type": "code",
   "execution_count": 1,
   "metadata": {},
   "outputs": [],
   "source": [
    "%matplotlib inline\n",
    "import matplotlib.pyplot as plt\n",
    "import tensorflow as tf\n",
    "import numpy as np\n",
    "import os"
   ]
  },
  {
   "cell_type": "markdown",
   "metadata": {},
   "source": [
    "These are the imports from the Keras API."
   ]
  },
  {
   "cell_type": "markdown",
   "metadata": {},
   "source": [
    "This was developed using Python 3.6 and TensorFlow version:"
   ]
  },
  {
   "cell_type": "markdown",
   "metadata": {},
   "source": [
    "## Dataset: Guns"
   ]
  },
  {
   "cell_type": "markdown",
   "metadata": {},
   "source": [
    "The directories where the images are now stored."
   ]
  },
  {
   "cell_type": "code",
   "execution_count": 3,
   "metadata": {},
   "outputs": [
    {
     "name": "stdout",
     "output_type": "stream",
     "text": [
      "Total training gun images: 511\n",
      "Total training nogun images: 1102\n",
      "Total validation gun images: 0\n",
      "Total validation nogun images: 0\n"
     ]
    }
   ],
   "source": [
    "train_dir = '/data/mwir_gun_chips/train/'\n",
    "test_dir = '/data/mwir_gun_chips/val/'\n",
    "\n",
    "# Directory with our training images\n",
    "train_guns_dir = os.path.join(train_dir, 'gun')\n",
    "print ('Total training gun images:', len(os.listdir(train_guns_dir)))\n",
    "\n",
    "# Directory with our training dog pictures\n",
    "train_noguns_dir = os.path.join(train_dir, 'nogun')\n",
    "print ('Total training nogun images:', len(os.listdir(train_noguns_dir)))\n",
    "\n",
    "# Directory with our validation cat pictures\n",
    "validation_guns_dir = os.path.join(test_dir, 'gun')\n",
    "print ('Total validation gun images:', len(os.listdir(validation_guns_dir)))\n",
    "\n",
    "# Directory with our validation dog pictures\n",
    "validation_noguns_dir = os.path.join(test_dir, 'nogun')\n",
    "print ('Total validation nogun images:', len(os.listdir(validation_noguns_dir)))"
   ]
  },
  {
   "cell_type": "markdown",
   "metadata": {},
   "source": [
    "## Exploring the data\n",
    "We cam explore the data to learn how we might improve training."
   ]
  },
  {
   "cell_type": "code",
   "execution_count": 4,
   "metadata": {},
   "outputs": [
    {
     "name": "stdout",
     "output_type": "stream",
     "text": [
      "/data/mwir_gun_chips/train/gun\n",
      "/data/mwir_gun_chips/train/nogun\n"
     ]
    }
   ],
   "source": [
    "import pathlib\n",
    "\n",
    "gun_root = pathlib.Path(train_guns_dir) \n",
    "nogun_root = pathlib.Path(train_noguns_dir) \n",
    "print(gun_root)\n",
    "print(nogun_root)"
   ]
  },
  {
   "cell_type": "code",
   "execution_count": 5,
   "metadata": {},
   "outputs": [
    {
     "name": "stdout",
     "output_type": "stream",
     "text": [
      "511\n",
      "1102\n"
     ]
    }
   ],
   "source": [
    "## how many images are in this section (gun or nogun) of dataset\n",
    "import random\n",
    "all_gun_paths = list(gun_root.glob('*'))\n",
    "all_gun_paths = [str(path) for path in all_gun_paths]\n",
    "random.shuffle(all_gun_paths)\n",
    "gun_count = len(all_gun_paths)\n",
    "print(gun_count)\n",
    "\n",
    "all_nogun_paths = list(nogun_root.glob('*'))\n",
    "all_nogun_paths = [str(path) for path in all_nogun_paths]\n",
    "random.shuffle(all_nogun_paths)\n",
    "nogun_count = len(all_nogun_paths)\n",
    "print(nogun_count)\n",
    "\n"
   ]
  },
  {
   "cell_type": "code",
   "execution_count": 6,
   "metadata": {},
   "outputs": [
    {
     "data": {
      "text/plain": [
       "['/data/mwir_gun_chips/train/gun/252_0779.png',\n",
       " '/data/mwir_gun_chips/train/gun/236_5227.png',\n",
       " '/data/mwir_gun_chips/train/gun/236_5254.png',\n",
       " '/data/mwir_gun_chips/train/gun/252_1383.png',\n",
       " '/data/mwir_gun_chips/train/gun/252_0721.png',\n",
       " '/data/mwir_gun_chips/train/gun/236_2208.png',\n",
       " '/data/mwir_gun_chips/train/gun/252_1377.png',\n",
       " '/data/mwir_gun_chips/train/gun/252_0807.png',\n",
       " '/data/mwir_gun_chips/train/gun/252_1100.png',\n",
       " '/data/mwir_gun_chips/train/gun/252_0937.png',\n",
       " '/data/mwir_gun_chips/train/gun/236_2232.png',\n",
       " '/data/mwir_gun_chips/train/gun/252_0736.png',\n",
       " '/data/mwir_gun_chips/train/gun/252_1019.png',\n",
       " '/data/mwir_gun_chips/train/gun/252_0950.png',\n",
       " '/data/mwir_gun_chips/train/gun/236_2214.png',\n",
       " '/data/mwir_gun_chips/train/gun/236_5047.png',\n",
       " '/data/mwir_gun_chips/train/gun/252_1378.png',\n",
       " '/data/mwir_gun_chips/train/gun/252_1001.png',\n",
       " '/data/mwir_gun_chips/train/gun/252_0968.png',\n",
       " '/data/mwir_gun_chips/train/gun/252_1085.png',\n",
       " '/data/mwir_gun_chips/train/gun/236_2221.png',\n",
       " '/data/mwir_gun_chips/train/gun/252_0995.png',\n",
       " '/data/mwir_gun_chips/train/gun/252_1081.png',\n",
       " '/data/mwir_gun_chips/train/gun/252_0834.png',\n",
       " '/data/mwir_gun_chips/train/gun/236_2222.png',\n",
       " '/data/mwir_gun_chips/train/gun/236_4950.png',\n",
       " '/data/mwir_gun_chips/train/gun/252_1288.png',\n",
       " '/data/mwir_gun_chips/train/gun/236_2226.png',\n",
       " '/data/mwir_gun_chips/train/gun/236_2229.png',\n",
       " '/data/mwir_gun_chips/train/gun/236_4939.png',\n",
       " '/data/mwir_gun_chips/train/gun/252_1117.png',\n",
       " '/data/mwir_gun_chips/train/gun/252_0982.png',\n",
       " '/data/mwir_gun_chips/train/gun/236_2217.png',\n",
       " '/data/mwir_gun_chips/train/gun/236_2238.png',\n",
       " '/data/mwir_gun_chips/train/gun/252_0959.png',\n",
       " '/data/mwir_gun_chips/train/gun/252_1335.png',\n",
       " '/data/mwir_gun_chips/train/gun/252_0994.png',\n",
       " '/data/mwir_gun_chips/train/gun/252_1393.png',\n",
       " '/data/mwir_gun_chips/train/gun/252_1064.png',\n",
       " '/data/mwir_gun_chips/train/gun/252_1285.png',\n",
       " '/data/mwir_gun_chips/train/gun/252_0750.png',\n",
       " '/data/mwir_gun_chips/train/gun/252_1015.png',\n",
       " '/data/mwir_gun_chips/train/gun/252_0729.png',\n",
       " '/data/mwir_gun_chips/train/gun/236_2225.png',\n",
       " '/data/mwir_gun_chips/train/gun/236_2273.png',\n",
       " '/data/mwir_gun_chips/train/gun/236_2215.png',\n",
       " '/data/mwir_gun_chips/train/gun/236_2306.png',\n",
       " '/data/mwir_gun_chips/train/gun/236_2329.png',\n",
       " '/data/mwir_gun_chips/train/gun/252_1329.png',\n",
       " '/data/mwir_gun_chips/train/gun/236_5250.png',\n",
       " '/data/mwir_gun_chips/train/gun/236_4873.png']"
      ]
     },
     "execution_count": 6,
     "metadata": {},
     "output_type": "execute_result"
    }
   ],
   "source": [
    "val_data_gun = all_gun_paths[:int(gun_count*.10)]\n",
    "val_data_gun"
   ]
  },
  {
   "cell_type": "code",
   "execution_count": 7,
   "metadata": {},
   "outputs": [
    {
     "data": {
      "text/plain": [
       "['/data/mwir_gun_chips/train/nogun/236_4737.png',\n",
       " '/data/mwir_gun_chips/train/nogun/236_3394.png',\n",
       " '/data/mwir_gun_chips/train/nogun/236_3154.png',\n",
       " '/data/mwir_gun_chips/train/nogun/236_5303.png',\n",
       " '/data/mwir_gun_chips/train/nogun/236_5397.png',\n",
       " '/data/mwir_gun_chips/train/nogun/236_4378.png',\n",
       " '/data/mwir_gun_chips/train/nogun/236_3135.png',\n",
       " '/data/mwir_gun_chips/train/nogun/236_4706.png',\n",
       " '/data/mwir_gun_chips/train/nogun/236_5398.png',\n",
       " '/data/mwir_gun_chips/train/nogun/236_4749.png',\n",
       " '/data/mwir_gun_chips/train/nogun/236_3972.png',\n",
       " '/data/mwir_gun_chips/train/nogun/236_4703.png',\n",
       " '/data/mwir_gun_chips/train/nogun/236_5501.png',\n",
       " '/data/mwir_gun_chips/train/nogun/236_4998.png',\n",
       " '/data/mwir_gun_chips/train/nogun/236_3772.png',\n",
       " '/data/mwir_gun_chips/train/nogun/236_4383.png',\n",
       " '/data/mwir_gun_chips/train/nogun/236_5144.png',\n",
       " '/data/mwir_gun_chips/train/nogun/236_3068.png',\n",
       " '/data/mwir_gun_chips/train/nogun/236_4777.png',\n",
       " '/data/mwir_gun_chips/train/nogun/236_5188.png',\n",
       " '/data/mwir_gun_chips/train/nogun/236_5371.png',\n",
       " '/data/mwir_gun_chips/train/nogun/236_4994.png',\n",
       " '/data/mwir_gun_chips/train/nogun/236_4712.png',\n",
       " '/data/mwir_gun_chips/train/nogun/236_4339.png',\n",
       " '/data/mwir_gun_chips/train/nogun/236_3178.png',\n",
       " '/data/mwir_gun_chips/train/nogun/236_3509.png',\n",
       " '/data/mwir_gun_chips/train/nogun/236_4184.png',\n",
       " '/data/mwir_gun_chips/train/nogun/236_3373.png',\n",
       " '/data/mwir_gun_chips/train/nogun/236_4785.png',\n",
       " '/data/mwir_gun_chips/train/nogun/236_5100.png',\n",
       " '/data/mwir_gun_chips/train/nogun/236_3062.png',\n",
       " '/data/mwir_gun_chips/train/nogun/236_4307.png',\n",
       " '/data/mwir_gun_chips/train/nogun/236_4109.png',\n",
       " '/data/mwir_gun_chips/train/nogun/236_3155.png',\n",
       " '/data/mwir_gun_chips/train/nogun/236_4188.png',\n",
       " '/data/mwir_gun_chips/train/nogun/236_5386.png',\n",
       " '/data/mwir_gun_chips/train/nogun/236_4711.png',\n",
       " '/data/mwir_gun_chips/train/nogun/236_4744.png',\n",
       " '/data/mwir_gun_chips/train/nogun/236_4077.png',\n",
       " '/data/mwir_gun_chips/train/nogun/236_4334.png',\n",
       " '/data/mwir_gun_chips/train/nogun/236_3735.png',\n",
       " '/data/mwir_gun_chips/train/nogun/236_4975.png',\n",
       " '/data/mwir_gun_chips/train/nogun/236_4793.png',\n",
       " '/data/mwir_gun_chips/train/nogun/236_3171.png',\n",
       " '/data/mwir_gun_chips/train/nogun/236_4031.png',\n",
       " '/data/mwir_gun_chips/train/nogun/236_3706.png',\n",
       " '/data/mwir_gun_chips/train/nogun/236_5104.png',\n",
       " '/data/mwir_gun_chips/train/nogun/236_3310.png',\n",
       " '/data/mwir_gun_chips/train/nogun/236_3991.png',\n",
       " '/data/mwir_gun_chips/train/nogun/236_3702.png',\n",
       " '/data/mwir_gun_chips/train/nogun/236_4770.png',\n",
       " '/data/mwir_gun_chips/train/nogun/236_5358.png',\n",
       " '/data/mwir_gun_chips/train/nogun/236_3902.png',\n",
       " '/data/mwir_gun_chips/train/nogun/236_3918.png',\n",
       " '/data/mwir_gun_chips/train/nogun/236_3736.png',\n",
       " '/data/mwir_gun_chips/train/nogun/236_4376.png',\n",
       " '/data/mwir_gun_chips/train/nogun/236_3994.png',\n",
       " '/data/mwir_gun_chips/train/nogun/236_3084.png',\n",
       " '/data/mwir_gun_chips/train/nogun/236_4171.png',\n",
       " '/data/mwir_gun_chips/train/nogun/236_3038.png',\n",
       " '/data/mwir_gun_chips/train/nogun/236_3194.png',\n",
       " '/data/mwir_gun_chips/train/nogun/236_3149.png',\n",
       " '/data/mwir_gun_chips/train/nogun/236_4002.png',\n",
       " '/data/mwir_gun_chips/train/nogun/236_5150.png',\n",
       " '/data/mwir_gun_chips/train/nogun/236_4741.png',\n",
       " '/data/mwir_gun_chips/train/nogun/236_3504.png',\n",
       " '/data/mwir_gun_chips/train/nogun/236_4301.png',\n",
       " '/data/mwir_gun_chips/train/nogun/236_3742.png',\n",
       " '/data/mwir_gun_chips/train/nogun/236_3533.png',\n",
       " '/data/mwir_gun_chips/train/nogun/236_3358.png',\n",
       " '/data/mwir_gun_chips/train/nogun/236_4118.png',\n",
       " '/data/mwir_gun_chips/train/nogun/236_3109.png',\n",
       " '/data/mwir_gun_chips/train/nogun/236_3064.png',\n",
       " '/data/mwir_gun_chips/train/nogun/236_4985.png',\n",
       " '/data/mwir_gun_chips/train/nogun/236_3718.png',\n",
       " '/data/mwir_gun_chips/train/nogun/236_5519.png',\n",
       " '/data/mwir_gun_chips/train/nogun/236_3355.png',\n",
       " '/data/mwir_gun_chips/train/nogun/236_3140.png',\n",
       " '/data/mwir_gun_chips/train/nogun/236_5377.png',\n",
       " '/data/mwir_gun_chips/train/nogun/236_3392.png',\n",
       " '/data/mwir_gun_chips/train/nogun/236_3105.png',\n",
       " '/data/mwir_gun_chips/train/nogun/236_4974.png',\n",
       " '/data/mwir_gun_chips/train/nogun/236_4342.png',\n",
       " '/data/mwir_gun_chips/train/nogun/236_5370.png',\n",
       " '/data/mwir_gun_chips/train/nogun/236_5314.png',\n",
       " '/data/mwir_gun_chips/train/nogun/236_4390.png',\n",
       " '/data/mwir_gun_chips/train/nogun/236_3578.png',\n",
       " '/data/mwir_gun_chips/train/nogun/236_3397.png',\n",
       " '/data/mwir_gun_chips/train/nogun/236_3572.png',\n",
       " '/data/mwir_gun_chips/train/nogun/236_4981.png',\n",
       " '/data/mwir_gun_chips/train/nogun/236_4076.png',\n",
       " '/data/mwir_gun_chips/train/nogun/236_4028.png',\n",
       " '/data/mwir_gun_chips/train/nogun/236_3750.png',\n",
       " '/data/mwir_gun_chips/train/nogun/236_5336.png',\n",
       " '/data/mwir_gun_chips/train/nogun/236_4700.png',\n",
       " '/data/mwir_gun_chips/train/nogun/236_3943.png',\n",
       " '/data/mwir_gun_chips/train/nogun/236_4943.png',\n",
       " '/data/mwir_gun_chips/train/nogun/236_3770.png',\n",
       " '/data/mwir_gun_chips/train/nogun/236_5308.png',\n",
       " '/data/mwir_gun_chips/train/nogun/236_3997.png',\n",
       " '/data/mwir_gun_chips/train/nogun/236_4155.png',\n",
       " '/data/mwir_gun_chips/train/nogun/236_4784.png',\n",
       " '/data/mwir_gun_chips/train/nogun/236_3357.png',\n",
       " '/data/mwir_gun_chips/train/nogun/236_3710.png',\n",
       " '/data/mwir_gun_chips/train/nogun/236_3138.png',\n",
       " '/data/mwir_gun_chips/train/nogun/236_3172.png',\n",
       " '/data/mwir_gun_chips/train/nogun/236_4170.png',\n",
       " '/data/mwir_gun_chips/train/nogun/236_3352.png',\n",
       " '/data/mwir_gun_chips/train/nogun/236_3153.png',\n",
       " '/data/mwir_gun_chips/train/nogun/236_3906.png']"
      ]
     },
     "execution_count": 7,
     "metadata": {},
     "output_type": "execute_result"
    }
   ],
   "source": [
    "val_data_nogun = all_nogun_paths[:int(nogun_count*.10)]\n",
    "val_data_nogun"
   ]
  },
  {
   "cell_type": "code",
   "execution_count": 8,
   "metadata": {},
   "outputs": [
    {
     "name": "stdout",
     "output_type": "stream",
     "text": [
      "/data/mwir_gun_chips/train/gun/252_0779.png\n",
      "/data/mwir_gun_chips/train/gun/236_5227.png\n",
      "/data/mwir_gun_chips/train/gun/236_5254.png\n",
      "/data/mwir_gun_chips/train/gun/252_1383.png\n",
      "/data/mwir_gun_chips/train/gun/252_0721.png\n",
      "/data/mwir_gun_chips/train/gun/236_2208.png\n",
      "/data/mwir_gun_chips/train/gun/252_1377.png\n",
      "/data/mwir_gun_chips/train/gun/252_0807.png\n",
      "/data/mwir_gun_chips/train/gun/252_1100.png\n",
      "/data/mwir_gun_chips/train/gun/252_0937.png\n",
      "/data/mwir_gun_chips/train/gun/236_2232.png\n",
      "/data/mwir_gun_chips/train/gun/252_0736.png\n",
      "/data/mwir_gun_chips/train/gun/252_1019.png\n",
      "/data/mwir_gun_chips/train/gun/252_0950.png\n",
      "/data/mwir_gun_chips/train/gun/236_2214.png\n",
      "/data/mwir_gun_chips/train/gun/236_5047.png\n",
      "/data/mwir_gun_chips/train/gun/252_1378.png\n",
      "/data/mwir_gun_chips/train/gun/252_1001.png\n",
      "/data/mwir_gun_chips/train/gun/252_0968.png\n",
      "/data/mwir_gun_chips/train/gun/252_1085.png\n",
      "/data/mwir_gun_chips/train/gun/236_2221.png\n",
      "/data/mwir_gun_chips/train/gun/252_0995.png\n",
      "/data/mwir_gun_chips/train/gun/252_1081.png\n",
      "/data/mwir_gun_chips/train/gun/252_0834.png\n",
      "/data/mwir_gun_chips/train/gun/236_2222.png\n",
      "/data/mwir_gun_chips/train/gun/236_4950.png\n",
      "/data/mwir_gun_chips/train/gun/252_1288.png\n",
      "/data/mwir_gun_chips/train/gun/236_2226.png\n",
      "/data/mwir_gun_chips/train/gun/236_2229.png\n",
      "/data/mwir_gun_chips/train/gun/236_4939.png\n",
      "/data/mwir_gun_chips/train/gun/252_1117.png\n",
      "/data/mwir_gun_chips/train/gun/252_0982.png\n",
      "/data/mwir_gun_chips/train/gun/236_2217.png\n",
      "/data/mwir_gun_chips/train/gun/236_2238.png\n",
      "/data/mwir_gun_chips/train/gun/252_0959.png\n",
      "/data/mwir_gun_chips/train/gun/252_1335.png\n",
      "/data/mwir_gun_chips/train/gun/252_0994.png\n",
      "/data/mwir_gun_chips/train/gun/252_1393.png\n",
      "/data/mwir_gun_chips/train/gun/252_1064.png\n",
      "/data/mwir_gun_chips/train/gun/252_1285.png\n",
      "/data/mwir_gun_chips/train/gun/252_0750.png\n",
      "/data/mwir_gun_chips/train/gun/252_1015.png\n",
      "/data/mwir_gun_chips/train/gun/252_0729.png\n",
      "/data/mwir_gun_chips/train/gun/236_2225.png\n",
      "/data/mwir_gun_chips/train/gun/236_2273.png\n",
      "/data/mwir_gun_chips/train/gun/236_2215.png\n",
      "/data/mwir_gun_chips/train/gun/236_2306.png\n",
      "/data/mwir_gun_chips/train/gun/236_2329.png\n",
      "/data/mwir_gun_chips/train/gun/252_1329.png\n",
      "/data/mwir_gun_chips/train/gun/236_5250.png\n",
      "/data/mwir_gun_chips/train/gun/236_4873.png\n"
     ]
    }
   ],
   "source": [
    "import shutil\n",
    "target_dir_gun = '/data/mwir_gun_chips/val/gun/'\n",
    "for item in val_data_gun:\n",
    "    print(item)\n",
    "    shutil.move(item, target_dir_gun)\n",
    "    "
   ]
  },
  {
   "cell_type": "code",
   "execution_count": 9,
   "metadata": {},
   "outputs": [
    {
     "name": "stdout",
     "output_type": "stream",
     "text": [
      "/data/mwir_gun_chips/train/nogun/236_4737.png\n",
      "/data/mwir_gun_chips/train/nogun/236_3394.png\n",
      "/data/mwir_gun_chips/train/nogun/236_3154.png\n",
      "/data/mwir_gun_chips/train/nogun/236_5303.png\n",
      "/data/mwir_gun_chips/train/nogun/236_5397.png\n",
      "/data/mwir_gun_chips/train/nogun/236_4378.png\n",
      "/data/mwir_gun_chips/train/nogun/236_3135.png\n",
      "/data/mwir_gun_chips/train/nogun/236_4706.png\n",
      "/data/mwir_gun_chips/train/nogun/236_5398.png\n",
      "/data/mwir_gun_chips/train/nogun/236_4749.png\n",
      "/data/mwir_gun_chips/train/nogun/236_3972.png\n",
      "/data/mwir_gun_chips/train/nogun/236_4703.png\n",
      "/data/mwir_gun_chips/train/nogun/236_5501.png\n",
      "/data/mwir_gun_chips/train/nogun/236_4998.png\n",
      "/data/mwir_gun_chips/train/nogun/236_3772.png\n",
      "/data/mwir_gun_chips/train/nogun/236_4383.png\n",
      "/data/mwir_gun_chips/train/nogun/236_5144.png\n",
      "/data/mwir_gun_chips/train/nogun/236_3068.png\n",
      "/data/mwir_gun_chips/train/nogun/236_4777.png\n",
      "/data/mwir_gun_chips/train/nogun/236_5188.png\n",
      "/data/mwir_gun_chips/train/nogun/236_5371.png\n",
      "/data/mwir_gun_chips/train/nogun/236_4994.png\n",
      "/data/mwir_gun_chips/train/nogun/236_4712.png\n",
      "/data/mwir_gun_chips/train/nogun/236_4339.png\n",
      "/data/mwir_gun_chips/train/nogun/236_3178.png\n",
      "/data/mwir_gun_chips/train/nogun/236_3509.png\n",
      "/data/mwir_gun_chips/train/nogun/236_4184.png\n",
      "/data/mwir_gun_chips/train/nogun/236_3373.png\n",
      "/data/mwir_gun_chips/train/nogun/236_4785.png\n",
      "/data/mwir_gun_chips/train/nogun/236_5100.png\n",
      "/data/mwir_gun_chips/train/nogun/236_3062.png\n",
      "/data/mwir_gun_chips/train/nogun/236_4307.png\n",
      "/data/mwir_gun_chips/train/nogun/236_4109.png\n",
      "/data/mwir_gun_chips/train/nogun/236_3155.png\n",
      "/data/mwir_gun_chips/train/nogun/236_4188.png\n",
      "/data/mwir_gun_chips/train/nogun/236_5386.png\n",
      "/data/mwir_gun_chips/train/nogun/236_4711.png\n",
      "/data/mwir_gun_chips/train/nogun/236_4744.png\n",
      "/data/mwir_gun_chips/train/nogun/236_4077.png\n",
      "/data/mwir_gun_chips/train/nogun/236_4334.png\n",
      "/data/mwir_gun_chips/train/nogun/236_3735.png\n",
      "/data/mwir_gun_chips/train/nogun/236_4975.png\n",
      "/data/mwir_gun_chips/train/nogun/236_4793.png\n",
      "/data/mwir_gun_chips/train/nogun/236_3171.png\n",
      "/data/mwir_gun_chips/train/nogun/236_4031.png\n",
      "/data/mwir_gun_chips/train/nogun/236_3706.png\n",
      "/data/mwir_gun_chips/train/nogun/236_5104.png\n",
      "/data/mwir_gun_chips/train/nogun/236_3310.png\n",
      "/data/mwir_gun_chips/train/nogun/236_3991.png\n",
      "/data/mwir_gun_chips/train/nogun/236_3702.png\n",
      "/data/mwir_gun_chips/train/nogun/236_4770.png\n",
      "/data/mwir_gun_chips/train/nogun/236_5358.png\n",
      "/data/mwir_gun_chips/train/nogun/236_3902.png\n",
      "/data/mwir_gun_chips/train/nogun/236_3918.png\n",
      "/data/mwir_gun_chips/train/nogun/236_3736.png\n",
      "/data/mwir_gun_chips/train/nogun/236_4376.png\n",
      "/data/mwir_gun_chips/train/nogun/236_3994.png\n",
      "/data/mwir_gun_chips/train/nogun/236_3084.png\n",
      "/data/mwir_gun_chips/train/nogun/236_4171.png\n",
      "/data/mwir_gun_chips/train/nogun/236_3038.png\n",
      "/data/mwir_gun_chips/train/nogun/236_3194.png\n",
      "/data/mwir_gun_chips/train/nogun/236_3149.png\n",
      "/data/mwir_gun_chips/train/nogun/236_4002.png\n",
      "/data/mwir_gun_chips/train/nogun/236_5150.png\n",
      "/data/mwir_gun_chips/train/nogun/236_4741.png\n",
      "/data/mwir_gun_chips/train/nogun/236_3504.png\n",
      "/data/mwir_gun_chips/train/nogun/236_4301.png\n",
      "/data/mwir_gun_chips/train/nogun/236_3742.png\n",
      "/data/mwir_gun_chips/train/nogun/236_3533.png\n",
      "/data/mwir_gun_chips/train/nogun/236_3358.png\n",
      "/data/mwir_gun_chips/train/nogun/236_4118.png\n",
      "/data/mwir_gun_chips/train/nogun/236_3109.png\n",
      "/data/mwir_gun_chips/train/nogun/236_3064.png\n",
      "/data/mwir_gun_chips/train/nogun/236_4985.png\n",
      "/data/mwir_gun_chips/train/nogun/236_3718.png\n",
      "/data/mwir_gun_chips/train/nogun/236_5519.png\n",
      "/data/mwir_gun_chips/train/nogun/236_3355.png\n",
      "/data/mwir_gun_chips/train/nogun/236_3140.png\n",
      "/data/mwir_gun_chips/train/nogun/236_5377.png\n",
      "/data/mwir_gun_chips/train/nogun/236_3392.png\n",
      "/data/mwir_gun_chips/train/nogun/236_3105.png\n",
      "/data/mwir_gun_chips/train/nogun/236_4974.png\n",
      "/data/mwir_gun_chips/train/nogun/236_4342.png\n",
      "/data/mwir_gun_chips/train/nogun/236_5370.png\n",
      "/data/mwir_gun_chips/train/nogun/236_5314.png\n",
      "/data/mwir_gun_chips/train/nogun/236_4390.png\n",
      "/data/mwir_gun_chips/train/nogun/236_3578.png\n",
      "/data/mwir_gun_chips/train/nogun/236_3397.png\n",
      "/data/mwir_gun_chips/train/nogun/236_3572.png\n",
      "/data/mwir_gun_chips/train/nogun/236_4981.png\n",
      "/data/mwir_gun_chips/train/nogun/236_4076.png\n",
      "/data/mwir_gun_chips/train/nogun/236_4028.png\n",
      "/data/mwir_gun_chips/train/nogun/236_3750.png\n",
      "/data/mwir_gun_chips/train/nogun/236_5336.png\n",
      "/data/mwir_gun_chips/train/nogun/236_4700.png\n",
      "/data/mwir_gun_chips/train/nogun/236_3943.png\n",
      "/data/mwir_gun_chips/train/nogun/236_4943.png\n",
      "/data/mwir_gun_chips/train/nogun/236_3770.png\n",
      "/data/mwir_gun_chips/train/nogun/236_5308.png\n",
      "/data/mwir_gun_chips/train/nogun/236_3997.png\n",
      "/data/mwir_gun_chips/train/nogun/236_4155.png\n",
      "/data/mwir_gun_chips/train/nogun/236_4784.png\n",
      "/data/mwir_gun_chips/train/nogun/236_3357.png\n",
      "/data/mwir_gun_chips/train/nogun/236_3710.png\n",
      "/data/mwir_gun_chips/train/nogun/236_3138.png\n",
      "/data/mwir_gun_chips/train/nogun/236_3172.png\n",
      "/data/mwir_gun_chips/train/nogun/236_4170.png\n",
      "/data/mwir_gun_chips/train/nogun/236_3352.png\n",
      "/data/mwir_gun_chips/train/nogun/236_3153.png\n",
      "/data/mwir_gun_chips/train/nogun/236_3906.png\n"
     ]
    }
   ],
   "source": [
    "target_dir_nogun = '/data/mwir_gun_chips/val/nogun/'\n",
    "for items in val_data_nogun:\n",
    "    print(items)\n",
    "    shutil.move(items, target_dir_nogun) "
   ]
  },
  {
   "cell_type": "code",
   "execution_count": null,
   "metadata": {},
   "outputs": [],
   "source": [
    "print(val_data_nogun)"
   ]
  },
  {
   "cell_type": "code",
   "execution_count": null,
   "metadata": {},
   "outputs": [],
   "source": []
  }
 ],
 "metadata": {
  "anaconda-cloud": {},
  "kernelspec": {
   "display_name": "Python 3",
   "language": "python",
   "name": "python3"
  },
  "language_info": {
   "codemirror_mode": {
    "name": "ipython",
    "version": 3
   },
   "file_extension": ".py",
   "mimetype": "text/x-python",
   "name": "python",
   "nbconvert_exporter": "python",
   "pygments_lexer": "ipython3",
   "version": "3.5.2"
  }
 },
 "nbformat": 4,
 "nbformat_minor": 2
}
