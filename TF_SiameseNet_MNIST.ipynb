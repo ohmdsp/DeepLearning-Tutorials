{
 "cells": [
  {
   "cell_type": "code",
   "execution_count": 1,
   "metadata": {},
   "outputs": [],
   "source": [
    "### notebook from kyle\n",
    "%matplotlib inline\n",
    "# Import statements\n",
    "import tensorflow as tf\n",
    "import numpy as np\n",
    "import random\n",
    "from tensorflow.math import reduce_sum, square, maximum\n",
    "\n",
    "layers = tf.keras.layers\n",
    "optimizers = tf.keras.optimizers"
   ]
  },
  {
   "cell_type": "code",
   "execution_count": 2,
   "metadata": {},
   "outputs": [],
   "source": [
    "#%%\n",
    "# # Dataset Prep\n",
    "#%%\n",
    "# ### Create Pairs\n",
    "def create_pairs(x, digit_indices):\n",
    "    '''Positive and negative pair creation.\n",
    "    Alternates between positive and negative pairs.\n",
    "    '''\n",
    "    pairs = []\n",
    "    labels = []\n",
    "    n = min([len(digit_indices[d]) for d in range(num_classes)]) - 1\n",
    "    for d in range(num_classes):\n",
    "        for i in range(n):\n",
    "            z1, z2 = digit_indices[d][i], digit_indices[d][i + 1]\n",
    "            pairs += [[x[z1], x[z2]]]\n",
    "            inc = random.randrange(1, num_classes)\n",
    "            dn = (d + inc) % num_classes\n",
    "            z1, z2 = digit_indices[d][i], digit_indices[dn][i]\n",
    "            pairs += [[x[z1], x[z2]]]\n",
    "            labels += [1, 0]\n",
    "\n",
    "    return np.array(pairs), np.array(labels)"
   ]
  },
  {
   "cell_type": "code",
   "execution_count": 3,
   "metadata": {},
   "outputs": [
    {
     "name": "stdout",
     "output_type": "stream",
     "text": [
      "108400\n"
     ]
    }
   ],
   "source": [
    "#%%\n",
    "(x_train, y_train), (x_test, y_test) = mnist = tf.keras.datasets.mnist.load_data()\n",
    "x_train = x_train.astype('float32') / 255.\n",
    "x_test = x_test.astype('float32') / 255.\n",
    "\n",
    "input_shape = x_train.shape[1:]\n",
    "\n",
    "num_classes = 10\n",
    "\n",
    "digit_indices = [np.where(y_train == i)[0] for i in range(num_classes)]\n",
    "tr_pairs, tr_y = create_pairs(x_train, digit_indices)\n",
    "\n",
    "digit_indices = [np.where(y_test == i)[0] for i in range(num_classes)]\n",
    "te_pairs, te_y = create_pairs(x_test, digit_indices)\n",
    "#%%\n",
    "print(len(tr_pairs))"
   ]
  },
  {
   "cell_type": "code",
   "execution_count": 4,
   "metadata": {},
   "outputs": [],
   "source": [
    "#%%\n",
    "# # Model Creation\n",
    "# ### Custom layer definitions\n",
    "def euclidean_distance(tensors):\n",
    "    encoded_l, encoded_r = tensors\n",
    "    sum_square = tf.math.reduce_sum(tf.math.square(encoded_l - encoded_r), axis=1, keepdims=True)\n",
    "    return tf.math.sqrt(tf.math.maximum(sum_square, tf.keras.backend.epsilon()))"
   ]
  },
  {
   "cell_type": "code",
   "execution_count": 5,
   "metadata": {},
   "outputs": [],
   "source": [
    "#%%\n",
    "# Define siamese model\n",
    "def genSiameseNet():\n",
    "\n",
    "    def eucl_dist_output_shape(shapes):\n",
    "        shape1, shape2 = shapes\n",
    "        return (shape1[0], 1)\n",
    "\n",
    "    input = tf.keras.Input(shape=input_shape)\n",
    "    x = layers.Flatten()(input)\n",
    "    x = layers.Dense(128, activation='relu')(x)\n",
    "    x = layers.Dropout(0.1)(x)\n",
    "    x = layers.Dense(128, activation='relu')(x)\n",
    "    x = layers.Dropout(0.1)(x)\n",
    "    x = layers.Dense(128, activation='relu')(x)\n",
    "    # x = layers.Conv2D(64, 10, activation='relu', name='conv1')(input)\n",
    "    # x = layers.MaxPool2D()(x)\n",
    "    # x = layers.Conv2D(128, 7, activation='relu', name='conv2')(x)\n",
    "    # x = layers.MaxPool2D()(x)\n",
    "    # x = layers.Conv2D(128, 4, activation='relu', name='conv3')(x)\n",
    "    # x = layers.MaxPool2D()(x)\n",
    "    # x = layers.Conv2D(256, 4, activation='relu', name='conv4')(x)\n",
    "    # x = layers.Flatten()(x)\n",
    "    # x = layers.Dense(4096, activation='sigmoid', name='fc1')(x)\n",
    "    base_model = tf.keras.Model(input, x, name='base_model')\n",
    "\n",
    "    input_l = tf.keras.Input(shape=input_shape)\n",
    "    input_r = tf.keras.Input(shape=input_shape)\n",
    "\n",
    "    encoding_l = base_model(input_l)\n",
    "    encoding_r = base_model(input_r)\n",
    "\n",
    "    # distance = layers.Lambda(euclidean_distance)([encoding_l, encoding_r])\n",
    "    distance = layers.Lambda(euclidean_distance, output_shape=eucl_dist_output_shape)([encoding_l, encoding_r])\n",
    "    prediction = layers.Dense(1, activation='sigmoid')(distance)\n",
    "\n",
    "    siamese_net = tf.keras.Model(inputs=[input_l, input_r], outputs=prediction)\n",
    "\n",
    "    base_model.summary()\n",
    "    siamese_net.summary()\n",
    "    return siamese_net"
   ]
  },
  {
   "cell_type": "code",
   "execution_count": 6,
   "metadata": {},
   "outputs": [
    {
     "name": "stderr",
     "output_type": "stream",
     "text": [
      "WARNING: Logging before flag parsing goes to stderr.\n",
      "W0911 22:49:32.619364 140145140549376 deprecation.py:506] From /usr/local/lib/python3.5/dist-packages/tensorflow/python/ops/init_ops.py:1251: calling VarianceScaling.__init__ (from tensorflow.python.ops.init_ops) with dtype is deprecated and will be removed in a future version.\n",
      "Instructions for updating:\n",
      "Call initializer instance with the dtype argument instead of passing it to the constructor\n"
     ]
    },
    {
     "name": "stdout",
     "output_type": "stream",
     "text": [
      "Model: \"base_model\"\n",
      "_________________________________________________________________\n",
      "Layer (type)                 Output Shape              Param #   \n",
      "=================================================================\n",
      "input_1 (InputLayer)         [(None, 28, 28)]          0         \n",
      "_________________________________________________________________\n",
      "flatten (Flatten)            (None, 784)               0         \n",
      "_________________________________________________________________\n",
      "dense (Dense)                (None, 128)               100480    \n",
      "_________________________________________________________________\n",
      "dropout (Dropout)            (None, 128)               0         \n",
      "_________________________________________________________________\n",
      "dense_1 (Dense)              (None, 128)               16512     \n",
      "_________________________________________________________________\n",
      "dropout_1 (Dropout)          (None, 128)               0         \n",
      "_________________________________________________________________\n",
      "dense_2 (Dense)              (None, 128)               16512     \n",
      "=================================================================\n",
      "Total params: 133,504\n",
      "Trainable params: 133,504\n",
      "Non-trainable params: 0\n",
      "_________________________________________________________________\n",
      "Model: \"model\"\n",
      "__________________________________________________________________________________________________\n",
      "Layer (type)                    Output Shape         Param #     Connected to                     \n",
      "==================================================================================================\n",
      "input_2 (InputLayer)            [(None, 28, 28)]     0                                            \n",
      "__________________________________________________________________________________________________\n",
      "input_3 (InputLayer)            [(None, 28, 28)]     0                                            \n",
      "__________________________________________________________________________________________________\n",
      "base_model (Model)              (None, 128)          133504      input_2[0][0]                    \n",
      "                                                                 input_3[0][0]                    \n",
      "__________________________________________________________________________________________________\n",
      "lambda (Lambda)                 (None, 1)            0           base_model[1][0]                 \n",
      "                                                                 base_model[2][0]                 \n",
      "__________________________________________________________________________________________________\n",
      "dense_3 (Dense)                 (None, 1)            2           lambda[0][0]                     \n",
      "==================================================================================================\n",
      "Total params: 133,506\n",
      "Trainable params: 133,506\n",
      "Non-trainable params: 0\n",
      "__________________________________________________________________________________________________\n"
     ]
    }
   ],
   "source": [
    "#%%\n",
    "# ### Create Model\n",
    "siamese_net = genSiameseNet()\n",
    "#%%"
   ]
  },
  {
   "cell_type": "code",
   "execution_count": 7,
   "metadata": {},
   "outputs": [],
   "source": [
    "# ### Create optimizer for training\n",
    "def contrastive_loss(y_true, y_pred):\n",
    "    '''Contrastive loss from Hadsell-et-al.'06\n",
    "    http://yann.lecun.com/exdb/publis/pdf/hadsell-chopra-lecun-06.pdf\n",
    "    '''\n",
    "    margin = 1\n",
    "    sqaure_pred = tf.math.square(y_pred)\n",
    "    margin_square = tf.math.square(tf.math.maximum(margin - y_pred, 0))\n",
    "    return tf.math.reduce_mean(y_true * sqaure_pred + (1 - y_true) * margin_square)"
   ]
  },
  {
   "cell_type": "code",
   "execution_count": 8,
   "metadata": {},
   "outputs": [],
   "source": [
    "def compute_accuracy(y_true, y_pred):\n",
    "    '''Compute classification accuracy with a fixed threshold on distances.\n",
    "    '''\n",
    "    pred = y_pred.ravel() < 0.5\n",
    "    return np.mean(pred == y_true)"
   ]
  },
  {
   "cell_type": "code",
   "execution_count": 9,
   "metadata": {},
   "outputs": [],
   "source": [
    "def accuracy(y_true, y_pred):\n",
    "    '''Compute classification accuracy with a fixed threshold on distances.\n",
    "    '''\n",
    "    return tf.math.reduce_mean(tf.cast(tf.math.equal(y_true, tf.cast(y_pred < 0.5, y_true.dtype)), y_true.dtype))"
   ]
  },
  {
   "cell_type": "code",
   "execution_count": 10,
   "metadata": {},
   "outputs": [],
   "source": [
    "optimizer = optimizers.Adam(lr = 0.00006)\n",
    "# optimizer = optimizers.RMSprop()\n",
    "siamese_net.compile(loss=contrastive_loss, optimizer=optimizer, metrics=[accuracy])"
   ]
  },
  {
   "cell_type": "code",
   "execution_count": 11,
   "metadata": {},
   "outputs": [
    {
     "name": "stderr",
     "output_type": "stream",
     "text": [
      "W0911 22:49:40.682204 140145140549376 deprecation.py:323] From /usr/local/lib/python3.5/dist-packages/tensorflow/python/ops/math_grad.py:1250: add_dispatch_support.<locals>.wrapper (from tensorflow.python.ops.array_ops) is deprecated and will be removed in a future version.\n",
      "Instructions for updating:\n",
      "Use tf.where in 2.0, which has the same broadcast rule as np.where\n"
     ]
    },
    {
     "name": "stdout",
     "output_type": "stream",
     "text": [
      "Train on 108400 samples, validate on 17820 samples\n",
      "Epoch 1/50\n",
      "108400/108400 [==============================] - 2s 22us/sample - loss: 0.2615 - accuracy: 0.4986 - val_loss: 0.2502 - val_accuracy: 0.4889\n",
      "Epoch 2/50\n",
      "108400/108400 [==============================] - 2s 18us/sample - loss: 0.2502 - accuracy: 0.4968 - val_loss: 0.2501 - val_accuracy: 0.5015\n",
      "Epoch 3/50\n",
      "108400/108400 [==============================] - 2s 19us/sample - loss: 0.2501 - accuracy: 0.4982 - val_loss: 0.2500 - val_accuracy: 0.5000\n",
      "Epoch 4/50\n",
      "108400/108400 [==============================] - 2s 19us/sample - loss: 0.2501 - accuracy: 0.4997 - val_loss: 0.2500 - val_accuracy: 0.5017\n",
      "Epoch 5/50\n",
      "108400/108400 [==============================] - 2s 20us/sample - loss: 0.2500 - accuracy: 0.5005 - val_loss: 0.2500 - val_accuracy: 0.4992\n",
      "Epoch 6/50\n",
      "108400/108400 [==============================] - 2s 19us/sample - loss: 0.2500 - accuracy: 0.5011 - val_loss: 0.2500 - val_accuracy: 0.4996\n",
      "Epoch 7/50\n",
      "108400/108400 [==============================] - 2s 19us/sample - loss: 0.2500 - accuracy: 0.5020 - val_loss: 0.2500 - val_accuracy: 0.5006\n",
      "Epoch 8/50\n",
      "108400/108400 [==============================] - 2s 19us/sample - loss: 0.2500 - accuracy: 0.5041 - val_loss: 0.2500 - val_accuracy: 0.4986\n",
      "Epoch 9/50\n",
      "108400/108400 [==============================] - 2s 18us/sample - loss: 0.2500 - accuracy: 0.5041 - val_loss: 0.2500 - val_accuracy: 0.4998\n",
      "Epoch 10/50\n",
      "108400/108400 [==============================] - 2s 18us/sample - loss: 0.2499 - accuracy: 0.5069 - val_loss: 0.2501 - val_accuracy: 0.4964\n",
      "Epoch 11/50\n",
      "108400/108400 [==============================] - 2s 18us/sample - loss: 0.2499 - accuracy: 0.5079 - val_loss: 0.2500 - val_accuracy: 0.5003\n",
      "Epoch 12/50\n",
      "108400/108400 [==============================] - 2s 19us/sample - loss: 0.2499 - accuracy: 0.5104 - val_loss: 0.2501 - val_accuracy: 0.4988\n",
      "Epoch 13/50\n",
      "108400/108400 [==============================] - 2s 19us/sample - loss: 0.2499 - accuracy: 0.5094 - val_loss: 0.2500 - val_accuracy: 0.4992\n",
      "Epoch 14/50\n",
      "108400/108400 [==============================] - 2s 19us/sample - loss: 0.2499 - accuracy: 0.5088 - val_loss: 0.2500 - val_accuracy: 0.5004\n",
      "Epoch 15/50\n",
      "108400/108400 [==============================] - 2s 20us/sample - loss: 0.2498 - accuracy: 0.5123 - val_loss: 0.2501 - val_accuracy: 0.4968\n",
      "Epoch 16/50\n",
      "108400/108400 [==============================] - 2s 19us/sample - loss: 0.2498 - accuracy: 0.5118 - val_loss: 0.2501 - val_accuracy: 0.5004\n",
      "Epoch 17/50\n",
      "108400/108400 [==============================] - 2s 19us/sample - loss: 0.2498 - accuracy: 0.5125 - val_loss: 0.2501 - val_accuracy: 0.4999\n",
      "Epoch 18/50\n",
      "108400/108400 [==============================] - 2s 19us/sample - loss: 0.2497 - accuracy: 0.5162 - val_loss: 0.2501 - val_accuracy: 0.4998\n",
      "Epoch 19/50\n",
      "108400/108400 [==============================] - 2s 19us/sample - loss: 0.2497 - accuracy: 0.5157 - val_loss: 0.2501 - val_accuracy: 0.4986\n",
      "Epoch 20/50\n",
      "108400/108400 [==============================] - 2s 20us/sample - loss: 0.2497 - accuracy: 0.5154 - val_loss: 0.2501 - val_accuracy: 0.4979\n",
      "Epoch 21/50\n",
      "108400/108400 [==============================] - 2s 19us/sample - loss: 0.2496 - accuracy: 0.5167 - val_loss: 0.2501 - val_accuracy: 0.4994\n",
      "Epoch 22/50\n",
      "108400/108400 [==============================] - 2s 19us/sample - loss: 0.2496 - accuracy: 0.5195 - val_loss: 0.2501 - val_accuracy: 0.4992\n",
      "Epoch 23/50\n",
      "108400/108400 [==============================] - 2s 19us/sample - loss: 0.2495 - accuracy: 0.5201 - val_loss: 0.2502 - val_accuracy: 0.5001\n",
      "Epoch 24/50\n",
      "108400/108400 [==============================] - 2s 19us/sample - loss: 0.2495 - accuracy: 0.5205 - val_loss: 0.2502 - val_accuracy: 0.4976\n",
      "Epoch 25/50\n",
      "108400/108400 [==============================] - 2s 18us/sample - loss: 0.2495 - accuracy: 0.5219 - val_loss: 0.2502 - val_accuracy: 0.4971\n",
      "Epoch 26/50\n",
      "108400/108400 [==============================] - 2s 18us/sample - loss: 0.2494 - accuracy: 0.5215 - val_loss: 0.2502 - val_accuracy: 0.4993\n",
      "Epoch 27/50\n",
      "108400/108400 [==============================] - 2s 19us/sample - loss: 0.2494 - accuracy: 0.5218 - val_loss: 0.2502 - val_accuracy: 0.4988\n",
      "Epoch 28/50\n",
      "108400/108400 [==============================] - 2s 20us/sample - loss: 0.2493 - accuracy: 0.5248 - val_loss: 0.2503 - val_accuracy: 0.4987\n",
      "Epoch 29/50\n",
      "108400/108400 [==============================] - 2s 19us/sample - loss: 0.2492 - accuracy: 0.5255 - val_loss: 0.2503 - val_accuracy: 0.4973\n",
      "Epoch 30/50\n",
      "108400/108400 [==============================] - 2s 19us/sample - loss: 0.2491 - accuracy: 0.5253 - val_loss: 0.2503 - val_accuracy: 0.4993\n",
      "Epoch 31/50\n",
      "108400/108400 [==============================] - 2s 18us/sample - loss: 0.2491 - accuracy: 0.5248 - val_loss: 0.2504 - val_accuracy: 0.4986\n",
      "Epoch 32/50\n",
      "108400/108400 [==============================] - 2s 18us/sample - loss: 0.2490 - accuracy: 0.5277 - val_loss: 0.2505 - val_accuracy: 0.4953\n",
      "Epoch 33/50\n",
      "108400/108400 [==============================] - 2s 18us/sample - loss: 0.2489 - accuracy: 0.5294 - val_loss: 0.2505 - val_accuracy: 0.4955\n",
      "Epoch 34/50\n",
      "108400/108400 [==============================] - 2s 18us/sample - loss: 0.2489 - accuracy: 0.5297 - val_loss: 0.2506 - val_accuracy: 0.4964\n",
      "Epoch 35/50\n",
      "108400/108400 [==============================] - 2s 18us/sample - loss: 0.2487 - accuracy: 0.5322 - val_loss: 0.2506 - val_accuracy: 0.4973\n",
      "Epoch 36/50\n",
      "108400/108400 [==============================] - 2s 18us/sample - loss: 0.2486 - accuracy: 0.5350 - val_loss: 0.2508 - val_accuracy: 0.4948\n",
      "Epoch 37/50\n",
      "108400/108400 [==============================] - 2s 18us/sample - loss: 0.2485 - accuracy: 0.5351 - val_loss: 0.2508 - val_accuracy: 0.4954\n",
      "Epoch 38/50\n",
      "108400/108400 [==============================] - 2s 18us/sample - loss: 0.2482 - accuracy: 0.5366 - val_loss: 0.2510 - val_accuracy: 0.4933\n",
      "Epoch 39/50\n",
      "108400/108400 [==============================] - 2s 18us/sample - loss: 0.2481 - accuracy: 0.5393 - val_loss: 0.2512 - val_accuracy: 0.4931\n",
      "Epoch 40/50\n",
      "108400/108400 [==============================] - 2s 18us/sample - loss: 0.2478 - accuracy: 0.5411 - val_loss: 0.2514 - val_accuracy: 0.4893\n",
      "Epoch 41/50\n",
      "108400/108400 [==============================] - 2s 19us/sample - loss: 0.2475 - accuracy: 0.5413 - val_loss: 0.2515 - val_accuracy: 0.4929\n",
      "Epoch 42/50\n",
      "108400/108400 [==============================] - 2s 19us/sample - loss: 0.2473 - accuracy: 0.5453 - val_loss: 0.2518 - val_accuracy: 0.4866\n",
      "Epoch 43/50\n",
      "108400/108400 [==============================] - 2s 19us/sample - loss: 0.2470 - accuracy: 0.5488 - val_loss: 0.2522 - val_accuracy: 0.4856\n",
      "Epoch 44/50\n",
      "108400/108400 [==============================] - 2s 18us/sample - loss: 0.2466 - accuracy: 0.5544 - val_loss: 0.2523 - val_accuracy: 0.4847\n",
      "Epoch 45/50\n",
      "108400/108400 [==============================] - 2s 19us/sample - loss: 0.2462 - accuracy: 0.5559 - val_loss: 0.2526 - val_accuracy: 0.4833\n",
      "Epoch 46/50\n",
      "108400/108400 [==============================] - 2s 21us/sample - loss: 0.2459 - accuracy: 0.5589 - val_loss: 0.2527 - val_accuracy: 0.4855\n",
      "Epoch 47/50\n",
      "108400/108400 [==============================] - 2s 20us/sample - loss: 0.2453 - accuracy: 0.5641 - val_loss: 0.2529 - val_accuracy: 0.4871\n",
      "Epoch 48/50\n",
      "108400/108400 [==============================] - 2s 19us/sample - loss: 0.2449 - accuracy: 0.5687 - val_loss: 0.2536 - val_accuracy: 0.4821\n",
      "Epoch 49/50\n",
      "108400/108400 [==============================] - 2s 19us/sample - loss: 0.2445 - accuracy: 0.5707 - val_loss: 0.2536 - val_accuracy: 0.4863\n",
      "Epoch 50/50\n",
      "108400/108400 [==============================] - 2s 19us/sample - loss: 0.2440 - accuracy: 0.5741 - val_loss: 0.2544 - val_accuracy: 0.4834\n"
     ]
    },
    {
     "data": {
      "text/plain": [
       "<tensorflow.python.keras.callbacks.History at 0x7f757ab8fef0>"
      ]
     },
     "execution_count": 11,
     "metadata": {},
     "output_type": "execute_result"
    }
   ],
   "source": [
    "#%%\n",
    "siamese_net.fit(\n",
    "    [tr_pairs[:, 0], tr_pairs[:, 1]],\n",
    "    tr_y,\n",
    "    batch_size=128,\n",
    "    epochs=50,\n",
    "    validation_data=(\n",
    "        [te_pairs[:, 0], te_pairs[:, 1]],\n",
    "        te_y\n",
    "    )\n",
    ")"
   ]
  },
  {
   "cell_type": "code",
   "execution_count": 12,
   "metadata": {},
   "outputs": [
    {
     "name": "stdout",
     "output_type": "stream",
     "text": [
      "* Accuracy on training set: 59.40%\n",
      "* Accuracy on test set: 48.35%\n"
     ]
    }
   ],
   "source": [
    "#%%\n",
    "y_pred = siamese_net.predict([tr_pairs[:, 0], tr_pairs[:, 1]])\n",
    "tr_acc = compute_accuracy(tr_y, y_pred)\n",
    "y_pred = siamese_net.predict([te_pairs[:, 0], te_pairs[:, 1]])\n",
    "te_acc = compute_accuracy(te_y, y_pred)\n",
    "\n",
    "print('* Accuracy on training set: %0.2f%%' % (100 * tr_acc))\n",
    "print('* Accuracy on test set: %0.2f%%' % (100 * te_acc))"
   ]
  },
  {
   "cell_type": "code",
   "execution_count": 14,
   "metadata": {},
   "outputs": [
    {
     "data": {
      "image/png": "[encoded data removed]",
      "text/plain": [
       "<Figure size 432x288 with 2 Axes>"
      ]
     },
     "metadata": {
      "needs_background": "light"
     },
     "output_type": "display_data"
    },
    {
     "data": {
      "image/png": "[encoded data removed]",
      "text/plain": [
       "<Figure size 432x288 with 2 Axes>"
      ]
     },
     "metadata": {
      "needs_background": "light"
     },
     "output_type": "display_data"
    },
    {
     "data": {
      "image/png": "[encoded data removed]",
      "text/plain": [
       "<Figure size 432x288 with 2 Axes>"
      ]
     },
     "metadata": {
      "needs_background": "light"
     },
     "output_type": "display_data"
    },
    {
     "data": {
      "image/png": "[encoded data removed]",
      "text/plain": [
       "<Figure size 432x288 with 2 Axes>"
      ]
     },
     "metadata": {
      "needs_background": "light"
     },
     "output_type": "display_data"
    },
    {
     "data": {
      "image/png": "[encoded data removed]",
      "text/plain": [
       "<Figure size 432x288 with 2 Axes>"
      ]
     },
     "metadata": {
      "needs_background": "light"
     },
     "output_type": "display_data"
    },
    {
     "data": {
      "image/png": "[encoded data removed]",
      "text/plain": [
       "<Figure size 432x288 with 2 Axes>"
      ]
     },
     "metadata": {
      "needs_background": "light"
     },
     "output_type": "display_data"
    },
    {
     "data": {
      "image/png": "[encoded data removed]",
      "text/plain": [
       "<Figure size 432x288 with 2 Axes>"
      ]
     },
     "metadata": {
      "needs_background": "light"
     },
     "output_type": "display_data"
    },
    {
     "data": {
      "image/png": "[encoded data removed]",
      "text/plain": [
       "<Figure size 432x288 with 2 Axes>"
      ]
     },
     "metadata": {
      "needs_background": "light"
     },
     "output_type": "display_data"
    },
    {
     "data": {
      "image/png": "[encoded data removed]",
      "text/plain": [
       "<Figure size 432x288 with 2 Axes>"
      ]
     },
     "metadata": {
      "needs_background": "light"
     },
     "output_type": "display_data"
    },
    {
     "data": {
      "image/png": "[encoded data removed]",
      "text/plain": [
       "<Figure size 432x288 with 2 Axes>"
      ]
     },
     "metadata": {
      "needs_background": "light"
     },
     "output_type": "display_data"
    }
   ],
   "source": [
    "#%%\n",
    "import matplotlib.pyplot as plt\n",
    "\n",
    "# plt.title(\"MNist Character Test\")\n",
    "for i, p in enumerate(te_pairs[:10]):\n",
    "    fig = plt.figure()\n",
    "    sp = fig.add_subplot(1,2,1)\n",
    "    sp.set_title(\"Base\")\n",
    "    plt.imshow(p[0], cmap='gray')\n",
    "\n",
    "    sp = fig.add_subplot(1,2,2)\n",
    "    sp.set_title(\"Test\")\n",
    "    plt.imshow(p[1], cmap='gray')\n",
    "    sp.text(0,2,\"{}: {}\".format(y_pred[i] < 0.3, y_pred[i]))\n",
    "\n",
    "    plt.show()\n"
   ]
  },
  {
   "cell_type": "code",
   "execution_count": null,
   "metadata": {},
   "outputs": [],
   "source": []
  }
 ],
 "metadata": {
  "kernelspec": {
   "display_name": "Python 3",
   "language": "python",
   "name": "python3"
  },
  "language_info": {
   "codemirror_mode": {
    "name": "ipython",
    "version": 3
   },
   "file_extension": ".py",
   "mimetype": "text/x-python",
   "name": "python",
   "nbconvert_exporter": "python",
   "pygments_lexer": "ipython3",
   "version": "3.5.2"
  }
 },
 "nbformat": 4,
 "nbformat_minor": 2
}
