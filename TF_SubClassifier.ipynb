{
 "cells": [
  {
   "cell_type": "markdown",
   "metadata": {},
   "source": [
    "# TF SubDetector\n",
    "### Training a Gun classifier to use after an object detector\n",
    "\n",
    "This notebook walks you through the fune-tuning of a classifier for gun detection.\n",
    "\n",
    "The training data should be set up in the following way. All instances of each class should reside in a separate\n",
    "directory. For each class, the name of the directory should be then name of the class. These named directories \n",
    "should be the only data inside the specified training directory. For example, in the case of gun detection, use\n",
    "the following directory structure:\n",
    "\n",
    "\n",
    "--train_data\n",
    "\n",
    "    --yesguns \n",
    "        --img00.jpg\n",
    "        --img01.jpg\n",
    "        -- (...)  \n",
    "    ---noguns\n",
    "        --img98.jpg\n",
    "        --img99.jpg\n",
    "        -- (...)\n",
    "--val_data\n",
    "\n",
    "    --yesguns \n",
    "        --img00.jpg\n",
    "        --img01.jpg\n",
    "        -- (...)  \n",
    "    ---noguns\n",
    "        --img98.jpg\n",
    "        --img99.jpg\n",
    "        -- (...)\n",
    "\n",
    "\n",
    "Here the data has been split into two classes, and then further split into a training set and a validation set.\n",
    "Therefore, the 'labeling' of the data is actually nothing more than a process of sorting it into the correct directory. "
   ]
  },
  {
   "cell_type": "markdown",
   "metadata": {},
   "source": [
    "## Introduction\n",
    "\n",
    "We will use a pre-trained model on a new dataset using so-called Transfer Learning, by re-routing the output of the original model just prior to its classification layers and instead use a new classifier that we create. Because the original model was 'frozen' its weights will not be further optimized, so whatever was learned by all the previous layers in the model, will not be changed by the new data-set.\n",
    "\n",
    "This notebook also shows how to do Fine-Tuning using the Keras API for Tensorflow. We will use the gun dataset compiled by KickView. We will explore using several pre-trained models for fine-tuning."
   ]
  },
  {
   "cell_type": "markdown",
   "metadata": {},
   "source": [
    "## Flowchart\n",
    "\n",
    "The idea is to re-use a pre-trained model (e.g., VGG16 model), which consists of several convolutional layers (actually blocks of multiple convolutional layers), followed by some fully-connected / dense layers and then a softmax output layer for the classification. \n",
    "\n",
    "The dense layers are responsible for combining features from the convolutional layers for final classification. So when the VGG16 model is used on another dataset we can replace all the dense layers for something more prefered.\n",
    "\n",
    "The difference between Transfer Learning and Fine-Tuning is that in Transfer Learning we only optimize the weights of the new classification layers we have added, while we keep the weights of the original VGG16 model. In Fine-Tuning we optimize both the weights of the new classification layers we have added, as well as some or all of the layers from the VGG16 model."
   ]
  },
  {
   "cell_type": "markdown",
   "metadata": {},
   "source": [
    "![Flowchart of Transfer Learning & Fine-Tuning](images/10_transfer_learning_flowchart.png)"
   ]
  },
  {
   "cell_type": "markdown",
   "metadata": {},
   "source": [
    "## Imports"
   ]
  },
  {
   "cell_type": "code",
   "execution_count": 1,
   "metadata": {},
   "outputs": [],
   "source": [
    "%matplotlib inline\n",
    "import matplotlib.pyplot as plt\n",
    "import PIL\n",
    "import tensorflow as tf\n",
    "import numpy as np\n",
    "import os"
   ]
  },
  {
   "cell_type": "markdown",
   "metadata": {},
   "source": [
    "These are the imports from the Keras API."
   ]
  },
  {
   "cell_type": "code",
   "execution_count": 2,
   "metadata": {},
   "outputs": [],
   "source": [
    "from tensorflow.python.keras.models import Model, Sequential\n",
    "from tensorflow.python.keras.layers import Dense, Flatten, Dropout, GlobalAveragePooling2D\n",
    "from tensorflow.python.keras.applications import VGG16\n",
    "from tensorflow.python.keras.applications.vgg16 import preprocess_input, decode_predictions\n",
    "from tensorflow.python.keras.preprocessing.image import ImageDataGenerator\n",
    "from tensorflow.python.keras.optimizers import Adam, RMSprop, SGD\n",
    "\n",
    "from tensorflow.python.keras.preprocessing.image import image\n",
    "from tensorflow.python.keras import applications\n",
    "from tensorflow.python.keras.applications.inception_v3 import InceptionV3\n",
    "from tensorflow.python.keras.applications.mobilenet import MobileNet\n",
    "from tensorflow.python.keras import backend as K\n",
    "from tensorflow.python.keras.callbacks import ModelCheckpoint\n",
    "\n",
    "os.environ[\"CUDA_VISIBLE_DEVICES\"] = \"1\""
   ]
  },
  {
   "cell_type": "markdown",
   "metadata": {},
   "source": [
    "This was developed using Python 3.6 and TensorFlow version:"
   ]
  },
  {
   "cell_type": "code",
   "execution_count": 3,
   "metadata": {
    "scrolled": true
   },
   "outputs": [
    {
     "data": {
      "text/plain": [
       "'1.14.0'"
      ]
     },
     "execution_count": 3,
     "metadata": {},
     "output_type": "execute_result"
    }
   ],
   "source": [
    "tf.__version__"
   ]
  },
  {
   "cell_type": "code",
   "execution_count": 4,
   "metadata": {},
   "outputs": [],
   "source": [
    "tf.enable_eager_execution()"
   ]
  },
  {
   "cell_type": "markdown",
   "metadata": {},
   "source": [
    "## Dataset: Guns"
   ]
  },
  {
   "cell_type": "markdown",
   "metadata": {},
   "source": [
    "The directories where the images are now stored."
   ]
  },
  {
   "cell_type": "code",
   "execution_count": 4,
   "metadata": {},
   "outputs": [
    {
     "name": "stdout",
     "output_type": "stream",
     "text": [
      "Total training gun images: 460\n",
      "Total training nogun images: 992\n",
      "Total validation gun images: 51\n",
      "Total validation nogun images: 110\n"
     ]
    }
   ],
   "source": [
    "# train_dir = '/data/gun_chips/train/'\n",
    "# test_dir = '/data/gun_chips/val/'\n",
    "\n",
    "train_dir = '/data/mwir_gun_chips/train/'\n",
    "test_dir = '/data/mwir_gun_chips/val/'\n",
    "\n",
    "# Directory with our training images\n",
    "train_guns_dir = os.path.join(train_dir, 'gun')\n",
    "print ('Total training gun images:', len(os.listdir(train_guns_dir)))\n",
    "\n",
    "# Directory with our training dog pictures\n",
    "train_noguns_dir = os.path.join(train_dir, 'nogun')\n",
    "print ('Total training nogun images:', len(os.listdir(train_noguns_dir)))\n",
    "\n",
    "# Directory with our validation cat pictures\n",
    "validation_guns_dir = os.path.join(test_dir, 'gun')\n",
    "print ('Total validation gun images:', len(os.listdir(validation_guns_dir)))\n",
    "\n",
    "# Directory with our validation dog pictures\n",
    "validation_noguns_dir = os.path.join(test_dir, 'nogun')\n",
    "print ('Total validation nogun images:', len(os.listdir(validation_noguns_dir)))"
   ]
  },
  {
   "cell_type": "code",
   "execution_count": 5,
   "metadata": {},
   "outputs": [
    {
     "data": {
      "text/plain": [
       "'/data/mwir_gun_chips/train/gun'"
      ]
     },
     "execution_count": 5,
     "metadata": {},
     "output_type": "execute_result"
    }
   ],
   "source": [
    "train_guns_dir"
   ]
  },
  {
   "cell_type": "code",
   "execution_count": 6,
   "metadata": {},
   "outputs": [],
   "source": [
    "image_size = 256 # All images will be resized to 160x160\n",
    "batch_size = 32\n",
    "\n",
    "# Rescale all images by 1./255 and apply image augmentation to training images\n",
    "train_datagen = ImageDataGenerator(            \n",
    "                rescale=1./255)\n",
    "                #rotation_range=15,\n",
    "                #width_shift_range=0.05,\n",
    "                #height_shift_range=0.05,\n",
    "                #shear_range=0.05,\n",
    "                #zoom_range=[0.9, 1.1],\n",
    "                #horizontal_flip=False,\n",
    "                #vertical_flip=False,\n",
    "                #fill_mode='nearest')\n",
    "validation_datagen = ImageDataGenerator(rescale=1./255)"
   ]
  },
  {
   "cell_type": "markdown",
   "metadata": {},
   "source": [
    "Keras uses a so-called data-generator for inputting data into the neural network, which will loop over the data for eternity.\n",
    "If we have a small training-set it can help to artificially inflate its size by making various transformations to the images. We can use a built-in data-generator that can make these random transformations. This is also called an augmented dataset."
   ]
  },
  {
   "cell_type": "code",
   "execution_count": null,
   "metadata": {},
   "outputs": [],
   "source": [
    "# train_datagen = ImageDataGenerator(\n",
    "#      rescale=1./255,\n",
    "#      rotation_range=180,\n",
    "#      width_shift_range=0.1,\n",
    "#      height_shift_range=0.1,\n",
    "#      shear_range=0.1,\n",
    "#      zoom_range=[0.9, 1.5],\n",
    "#      horizontal_flip=True,\n",
    "#      vertical_flip=True,\n",
    "#      fill_mode='nearest')"
   ]
  },
  {
   "cell_type": "code",
   "execution_count": 9,
   "metadata": {},
   "outputs": [
    {
     "name": "stdout",
     "output_type": "stream",
     "text": [
      "Found 1452 images belonging to 2 classes.\n"
     ]
    }
   ],
   "source": [
    "# Flow training images in batches of 20 using train_datagen generator\n",
    "train_generator = train_datagen.flow_from_directory(\n",
    "                train_dir,  # Source directory for the training images\n",
    "                target_size=(image_size, image_size),\n",
    "                batch_size=batch_size,\n",
    "                # Since we use binary_crossentropy loss, we need binary labels\n",
    "                class_mode='binary')"
   ]
  },
  {
   "cell_type": "code",
   "execution_count": 8,
   "metadata": {},
   "outputs": [
    {
     "name": "stdout",
     "output_type": "stream",
     "text": [
      "Found 161 images belonging to 2 classes.\n"
     ]
    }
   ],
   "source": [
    "# Flow validation images in batches using test_datagen generator\n",
    "validation_generator = validation_datagen.flow_from_directory(\n",
    "                test_dir, # Source directory for the validation images\n",
    "                target_size=(image_size, image_size),\n",
    "                batch_size=batch_size,\n",
    "                class_mode='binary')"
   ]
  },
  {
   "cell_type": "markdown",
   "metadata": {},
   "source": [
    "## Class Weights\n",
    "\n",
    "The dataset could be imbalanced because it has fewer images in one class than another. This can cause a problem during training because the neural network will be shown many more examples of one class than another.\n",
    "\n",
    "Here we use scikit-learn to calculate weights that will properly balance the dataset. These weights are applied to the gradient for each image in the batch during training, so as to scale their influence on the overall gradient for the batch."
   ]
  },
  {
   "cell_type": "code",
   "execution_count": 9,
   "metadata": {},
   "outputs": [],
   "source": [
    "from sklearn.utils.class_weight import compute_class_weight"
   ]
  },
  {
   "cell_type": "code",
   "execution_count": 10,
   "metadata": {},
   "outputs": [],
   "source": [
    "cls_train = train_generator.classes "
   ]
  },
  {
   "cell_type": "code",
   "execution_count": 11,
   "metadata": {},
   "outputs": [],
   "source": [
    "class_weight = compute_class_weight(class_weight='balanced',\n",
    "                                    classes=np.unique(cls_train),\n",
    "                                    y=cls_train)"
   ]
  },
  {
   "cell_type": "markdown",
   "metadata": {},
   "source": [
    "Note the weights for each class. The gradient should be amplified for the class with fewer images, while the gradient should be lowered for the class with more images."
   ]
  },
  {
   "cell_type": "code",
   "execution_count": 12,
   "metadata": {},
   "outputs": [
    {
     "data": {
      "text/plain": [
       "array([1.57826087, 0.73185484])"
      ]
     },
     "execution_count": 12,
     "metadata": {},
     "output_type": "execute_result"
    }
   ],
   "source": [
    "class_weight"
   ]
  },
  {
   "cell_type": "markdown",
   "metadata": {},
   "source": [
    "## Pre-Trained Model:\n",
    "\n",
    "The following creates an instance of the pre-trained model using the Keras API. This may automatically downloads the required files if you don't have them already."
   ]
  },
  {
   "cell_type": "code",
   "execution_count": 13,
   "metadata": {},
   "outputs": [],
   "source": [
    "IMG_SHAPE = (image_size, image_size, 3)\n",
    "\n",
    "### Create the base model from the pre-trained model MobileNet V2\n",
    "#base_model = tf.keras.applications.MobileNetV2(input_shape=IMG_SHAPE,\n",
    "#                                               include_top=False,\n",
    "#                                               weights='imagenet')\n",
    "\n",
    "\n",
    "base_model = VGG16(input_shape = IMG_SHAPE, include_top=False, weights='imagenet')\n",
    "\n",
    "# Settings for inception:\n",
    "#img_width, img_height = 640, 360\n",
    "#base_model = InceptionV3(weights = 'imagenet', include_top=False, input_shape = (img_width, img_height, 3))\n",
    "#base_model = InceptionV3(weights = 'imagenet', include_top=False, input_shape = (image_size, image_size, 3))\n"
   ]
  },
  {
   "cell_type": "markdown",
   "metadata": {},
   "source": [
    "### Transfer Learning\n",
    "The lower layers of a Convolutional Neural Network can recognize many different shapes or features in an image. It is the last few fully-connected layers that combine these featuers into classification of a whole image. So we can try and re-route the output of the last convolutional layer of the model to a new fully-connected neural network that we create for doing classification on the gun dataset.\n",
    "First we print a summary of the model so we can see the names and types of its layers, as well as the shapes of the tensors flowing between the layers."
   ]
  },
  {
   "cell_type": "code",
   "execution_count": 14,
   "metadata": {},
   "outputs": [],
   "source": [
    "base_model.trainable = False   # Make the base model layers not trainable - \"freeze\" them"
   ]
  },
  {
   "cell_type": "code",
   "execution_count": 15,
   "metadata": {},
   "outputs": [
    {
     "name": "stdout",
     "output_type": "stream",
     "text": [
      "Model: \"vgg16\"\n",
      "_________________________________________________________________\n",
      "Layer (type)                 Output Shape              Param #   \n",
      "=================================================================\n",
      "input_1 (InputLayer)         [(None, 256, 256, 3)]     0         \n",
      "_________________________________________________________________\n",
      "block1_conv1 (Conv2D)        (None, 256, 256, 64)      1792      \n",
      "_________________________________________________________________\n",
      "block1_conv2 (Conv2D)        (None, 256, 256, 64)      36928     \n",
      "_________________________________________________________________\n",
      "block1_pool (MaxPooling2D)   (None, 128, 128, 64)      0         \n",
      "_________________________________________________________________\n",
      "block2_conv1 (Conv2D)        (None, 128, 128, 128)     73856     \n",
      "_________________________________________________________________\n",
      "block2_conv2 (Conv2D)        (None, 128, 128, 128)     147584    \n",
      "_________________________________________________________________\n",
      "block2_pool (MaxPooling2D)   (None, 64, 64, 128)       0         \n",
      "_________________________________________________________________\n",
      "block3_conv1 (Conv2D)        (None, 64, 64, 256)       295168    \n",
      "_________________________________________________________________\n",
      "block3_conv2 (Conv2D)        (None, 64, 64, 256)       590080    \n",
      "_________________________________________________________________\n",
      "block3_conv3 (Conv2D)        (None, 64, 64, 256)       590080    \n",
      "_________________________________________________________________\n",
      "block3_pool (MaxPooling2D)   (None, 32, 32, 256)       0         \n",
      "_________________________________________________________________\n",
      "block4_conv1 (Conv2D)        (None, 32, 32, 512)       1180160   \n",
      "_________________________________________________________________\n",
      "block4_conv2 (Conv2D)        (None, 32, 32, 512)       2359808   \n",
      "_________________________________________________________________\n",
      "block4_conv3 (Conv2D)        (None, 32, 32, 512)       2359808   \n",
      "_________________________________________________________________\n",
      "block4_pool (MaxPooling2D)   (None, 16, 16, 512)       0         \n",
      "_________________________________________________________________\n",
      "block5_conv1 (Conv2D)        (None, 16, 16, 512)       2359808   \n",
      "_________________________________________________________________\n",
      "block5_conv2 (Conv2D)        (None, 16, 16, 512)       2359808   \n",
      "_________________________________________________________________\n",
      "block5_conv3 (Conv2D)        (None, 16, 16, 512)       2359808   \n",
      "_________________________________________________________________\n",
      "block5_pool (MaxPooling2D)   (None, 8, 8, 512)         0         \n",
      "=================================================================\n",
      "Total params: 14,714,688\n",
      "Trainable params: 0\n",
      "Non-trainable params: 14,714,688\n",
      "_________________________________________________________________\n"
     ]
    }
   ],
   "source": [
    "# Let's take a look at the base model architecture\n",
    "base_model.summary()"
   ]
  },
  {
   "cell_type": "code",
   "execution_count": 16,
   "metadata": {},
   "outputs": [],
   "source": [
    "#transfer_layer = model.get_layer('block5_pool')   # VGG only\n",
    "#transfer_layer = model.output    # inception only\n",
    "#transfer_layer"
   ]
  },
  {
   "cell_type": "markdown",
   "metadata": {},
   "source": [
    "We can create a new model to add to the base model for the fully connected layers."
   ]
  },
  {
   "cell_type": "code",
   "execution_count": 17,
   "metadata": {
    "scrolled": true
   },
   "outputs": [],
   "source": [
    "model = Sequential([\n",
    "  base_model,\n",
    "  GlobalAveragePooling2D(input_shape=(8,8,512)),\n",
    "  #Flatten(),\n",
    "  #Dense(1024, activation='relu'),\n",
    "  #Dropout(0.5),\n",
    "  #Dense(512, activation='relu'),\n",
    "  #Dropout(0.5),  \n",
    "  Dense(1, activation='sigmoid')\n",
    "])"
   ]
  },
  {
   "cell_type": "markdown",
   "metadata": {},
   "source": [
    "Let's compile the new model and define the loss function and performance metrics."
   ]
  },
  {
   "cell_type": "code",
   "execution_count": 18,
   "metadata": {},
   "outputs": [],
   "source": [
    "#model.compile(optimizer=tf.keras.optimizers.RMSprop(lr=0.0001),\n",
    "#              loss='binary_crossentropy',\n",
    "#              metrics=['accuracy'])"
   ]
  },
  {
   "cell_type": "code",
   "execution_count": 19,
   "metadata": {},
   "outputs": [],
   "source": [
    "model.compile(optimizer=tf.keras.optimizers.Adam(lr=0.0001),\n",
    "              loss='binary_crossentropy',\n",
    "              metrics=['accuracy'])"
   ]
  },
  {
   "cell_type": "code",
   "execution_count": 20,
   "metadata": {},
   "outputs": [
    {
     "name": "stdout",
     "output_type": "stream",
     "text": [
      "Model: \"sequential\"\n",
      "_________________________________________________________________\n",
      "Layer (type)                 Output Shape              Param #   \n",
      "=================================================================\n",
      "vgg16 (Model)                (None, 8, 8, 512)         14714688  \n",
      "_________________________________________________________________\n",
      "global_average_pooling2d (Gl (None, 512)               0         \n",
      "_________________________________________________________________\n",
      "dense (Dense)                (None, 1)                 513       \n",
      "=================================================================\n",
      "Total params: 14,715,201\n",
      "Trainable params: 513\n",
      "Non-trainable params: 14,714,688\n",
      "_________________________________________________________________\n"
     ]
    }
   ],
   "source": [
    "model.summary()"
   ]
  },
  {
   "cell_type": "markdown",
   "metadata": {},
   "source": [
    "We can print out how many trainable layers there are in our new model. Only the new layers we defined should be traibale at this point."
   ]
  },
  {
   "cell_type": "code",
   "execution_count": 21,
   "metadata": {
    "scrolled": true
   },
   "outputs": [
    {
     "data": {
      "text/plain": [
       "2"
      ]
     },
     "execution_count": 21,
     "metadata": {},
     "output_type": "execute_result"
    }
   ],
   "source": [
    "len(model.trainable_variables)"
   ]
  },
  {
   "cell_type": "markdown",
   "metadata": {},
   "source": [
    "An epoch normally means one full processing of the training-set. But the Keras data-generator we created above will produce batches of training-data for eternity. So we need to define the number of steps we want to run for each \"epoch\" so that when we multiply this by the batch-size we get the total length of data in each true epoch. These are parameters you can experiment with."
   ]
  },
  {
   "cell_type": "code",
   "execution_count": 22,
   "metadata": {},
   "outputs": [
    {
     "name": "stdout",
     "output_type": "stream",
     "text": [
      "Epoch 1/15\n"
     ]
    },
    {
     "name": "stderr",
     "output_type": "stream",
     "text": [
      "WARNING: Logging before flag parsing goes to stderr.\n",
      "W0831 19:39:21.547821 140633295456000 deprecation.py:323] From /usr/local/lib/python3.5/dist-packages/tensorflow/python/ops/math_grad.py:1250: add_dispatch_support.<locals>.wrapper (from tensorflow.python.ops.array_ops) is deprecated and will be removed in a future version.\n",
      "Instructions for updating:\n",
      "Use tf.where in 2.0, which has the same broadcast rule as np.where\n"
     ]
    },
    {
     "name": "stdout",
     "output_type": "stream",
     "text": [
      "45/45 [==============================] - 10s 214ms/step - loss: 0.7618 - acc: 0.3092 - val_loss: 0.7254 - val_acc: 0.3125\n",
      "Epoch 2/15\n",
      "45/45 [==============================] - 5s 113ms/step - loss: 0.7037 - acc: 0.4387 - val_loss: 0.6805 - val_acc: 0.6938\n",
      "Epoch 3/15\n",
      "45/45 [==============================] - 5s 106ms/step - loss: 0.6712 - acc: 0.6754 - val_loss: 0.6551 - val_acc: 0.6812\n",
      "Epoch 4/15\n",
      "45/45 [==============================] - 5s 108ms/step - loss: 0.6555 - acc: 0.6824 - val_loss: 0.6420 - val_acc: 0.6812\n",
      "Epoch 5/15\n",
      "45/45 [==============================] - 5s 107ms/step - loss: 0.6476 - acc: 0.6796 - val_loss: 0.6347 - val_acc: 0.6812\n",
      "Epoch 6/15\n",
      "45/45 [==============================] - 5s 110ms/step - loss: 0.6399 - acc: 0.6826 - val_loss: 0.6306 - val_acc: 0.6812\n",
      "Epoch 7/15\n",
      "45/45 [==============================] - 5s 111ms/step - loss: 0.6296 - acc: 0.6886 - val_loss: 0.6269 - val_acc: 0.6812\n",
      "Epoch 8/15\n",
      "45/45 [==============================] - 5s 108ms/step - loss: 0.6314 - acc: 0.6875 - val_loss: 0.6253 - val_acc: 0.6812\n",
      "Epoch 9/15\n",
      "45/45 [==============================] - 5s 109ms/step - loss: 0.6343 - acc: 0.6796 - val_loss: 0.6180 - val_acc: 0.6875\n",
      "Epoch 10/15\n",
      "45/45 [==============================] - 5s 107ms/step - loss: 0.6317 - acc: 0.6775 - val_loss: 0.6215 - val_acc: 0.6812\n",
      "Epoch 11/15\n",
      "45/45 [==============================] - 5s 108ms/step - loss: 0.6255 - acc: 0.6907 - val_loss: 0.6204 - val_acc: 0.6812\n",
      "Epoch 12/15\n",
      "45/45 [==============================] - 5s 110ms/step - loss: 0.6265 - acc: 0.6803 - val_loss: 0.6186 - val_acc: 0.6812\n",
      "Epoch 13/15\n",
      "45/45 [==============================] - 5s 113ms/step - loss: 0.6168 - acc: 0.6944 - val_loss: 0.6164 - val_acc: 0.6812\n",
      "Epoch 14/15\n",
      "45/45 [==============================] - 5s 108ms/step - loss: 0.6336 - acc: 0.6714 - val_loss: 0.6110 - val_acc: 0.6875\n",
      "Epoch 15/15\n",
      "45/45 [==============================] - 5s 109ms/step - loss: 0.6186 - acc: 0.6852 - val_loss: 0.6139 - val_acc: 0.6812\n"
     ]
    }
   ],
   "source": [
    "epochs = 15\n",
    "steps_per_epoch = train_generator.n // batch_size\n",
    "validation_steps = validation_generator.n // batch_size\n",
    "\n",
    "history = model.fit_generator(train_generator,\n",
    "                              steps_per_epoch = steps_per_epoch,\n",
    "                              epochs=epochs,\n",
    "                              class_weight=class_weight,\n",
    "                              workers=4,\n",
    "                              validation_data=validation_generator,\n",
    "                              validation_steps=validation_steps,\n",
    "                              use_multiprocessing = True)"
   ]
  },
  {
   "cell_type": "markdown",
   "metadata": {},
   "source": [
    "Keras records the performance metrics at the end of each \"epoch\" so they can be plotted later. This hopefully shows that the loss generally decreased during training. Similarly, the classification accuracy generally improved on the training-set while it can be a bit more erratic on the test-set."
   ]
  },
  {
   "cell_type": "code",
   "execution_count": 23,
   "metadata": {},
   "outputs": [
    {
     "data": {
      "image/png": "[encoded data removed]",
      "text/plain": [
       "<Figure size 576x576 with 2 Axes>"
      ]
     },
     "metadata": {
      "needs_background": "light"
     },
     "output_type": "display_data"
    }
   ],
   "source": [
    "acc = history.history['acc']\n",
    "val_acc = history.history['val_acc']\n",
    "\n",
    "loss = history.history['loss']\n",
    "val_loss = history.history['val_loss']\n",
    "\n",
    "plt.figure(figsize=(8, 8))\n",
    "plt.subplot(2, 1, 1)\n",
    "plt.plot(acc, label='Training Accuracy')\n",
    "plt.plot(val_acc, label='Validation Accuracy')\n",
    "plt.legend(loc='lower right')\n",
    "plt.ylabel('Accuracy')\n",
    "plt.ylim([min(plt.ylim()),1])\n",
    "plt.title('Training and Validation Accuracy')\n",
    "\n",
    "plt.subplot(2, 1, 2)\n",
    "plt.plot(loss, label='Training Loss')\n",
    "plt.plot(val_loss, label='Validation Loss')\n",
    "plt.legend(loc='upper right')\n",
    "plt.ylabel('Cross Entropy')\n",
    "plt.ylim([0,max(plt.ylim())])\n",
    "plt.title('Training and Validation Loss')\n",
    "plt.show()"
   ]
  },
  {
   "cell_type": "markdown",
   "metadata": {},
   "source": [
    "## Fine-Tuning\n",
    "\n",
    "In Transfer Learning the original pre-trained model is locked or frozen during training of the new classifier. This ensures that the weights of the original model will not change. One advantage of this, is that the training of the new classifier will not propagate large gradients back through the model that may either distort its weights or cause overfitting to the new dataset.\n",
    "\n",
    "However, once the new classifier has been trained we can try and gently fine-tune some of the deeper layers in the model as well, in order to improve classification performance."
   ]
  },
  {
   "cell_type": "code",
   "execution_count": 24,
   "metadata": {},
   "outputs": [],
   "source": [
    "# Fine Tuning - we need to unfreeze the desired layers of the base_model, and set the bottom layers to be un-trainable. \n",
    "# Then, recompile the model (necessary for these changes to take effect), and resume training.\n",
    "base_model.trainable = True"
   ]
  },
  {
   "cell_type": "code",
   "execution_count": null,
   "metadata": {},
   "outputs": [],
   "source": [
    "## we chose to train the top 2 inception blocks, i.e. we will freeze\n",
    "## the first 249 layers and unfreeze the rest:\n",
    "#for layer in base_model.layers[:249]:\n",
    "#   layer.trainable = False\n",
    "#for layer in base_model.layers[249:]:\n",
    "#   layer.trainable = True"
   ]
  },
  {
   "cell_type": "code",
   "execution_count": 25,
   "metadata": {},
   "outputs": [
    {
     "name": "stdout",
     "output_type": "stream",
     "text": [
      "Number of layers in the base model:  19\n"
     ]
    }
   ],
   "source": [
    "# Let's take a look to see how many layers are in the base model\n",
    "print(\"Number of layers in the base model: \", len(base_model.layers))"
   ]
  },
  {
   "cell_type": "code",
   "execution_count": 26,
   "metadata": {},
   "outputs": [],
   "source": [
    "# Fine tune from this layer onwards (100 for mobilnet)\n",
    "fine_tune_at = 11\n",
    "\n",
    "# Freeze all the layers before the `fine_tune_at` layer\n",
    "for layer in base_model.layers[:fine_tune_at]:\n",
    "  layer.trainable =  False"
   ]
  },
  {
   "cell_type": "code",
   "execution_count": 27,
   "metadata": {},
   "outputs": [],
   "source": [
    "def print_layer_trainable(model):\n",
    "    for layer in model.layers:\n",
    "        print(\"{0}:\\t{1}\".format(layer.trainable, layer.name))"
   ]
  },
  {
   "cell_type": "code",
   "execution_count": 28,
   "metadata": {},
   "outputs": [
    {
     "name": "stdout",
     "output_type": "stream",
     "text": [
      "False:\tinput_1\n",
      "False:\tblock1_conv1\n",
      "False:\tblock1_conv2\n",
      "False:\tblock1_pool\n",
      "False:\tblock2_conv1\n",
      "False:\tblock2_conv2\n",
      "False:\tblock2_pool\n",
      "False:\tblock3_conv1\n",
      "False:\tblock3_conv2\n",
      "False:\tblock3_conv3\n",
      "False:\tblock3_pool\n",
      "True:\tblock4_conv1\n",
      "True:\tblock4_conv2\n",
      "True:\tblock4_conv3\n",
      "True:\tblock4_pool\n",
      "True:\tblock5_conv1\n",
      "True:\tblock5_conv2\n",
      "True:\tblock5_conv3\n",
      "True:\tblock5_pool\n"
     ]
    }
   ],
   "source": [
    "print_layer_trainable(base_model)"
   ]
  },
  {
   "cell_type": "code",
   "execution_count": 29,
   "metadata": {},
   "outputs": [],
   "source": [
    "model.compile(optimizer = tf.keras.optimizers.RMSprop(lr=2e-5),\n",
    "              loss='binary_crossentropy',\n",
    "              metrics=['accuracy'])"
   ]
  },
  {
   "cell_type": "code",
   "execution_count": 30,
   "metadata": {},
   "outputs": [
    {
     "name": "stdout",
     "output_type": "stream",
     "text": [
      "Model: \"sequential\"\n",
      "_________________________________________________________________\n",
      "Layer (type)                 Output Shape              Param #   \n",
      "=================================================================\n",
      "vgg16 (Model)                (None, 8, 8, 512)         14714688  \n",
      "_________________________________________________________________\n",
      "global_average_pooling2d (Gl (None, 512)               0         \n",
      "_________________________________________________________________\n",
      "dense (Dense)                (None, 1)                 513       \n",
      "=================================================================\n",
      "Total params: 14,715,201\n",
      "Trainable params: 12,979,713\n",
      "Non-trainable params: 1,735,488\n",
      "_________________________________________________________________\n"
     ]
    }
   ],
   "source": [
    "model.summary()"
   ]
  },
  {
   "cell_type": "code",
   "execution_count": 31,
   "metadata": {},
   "outputs": [
    {
     "data": {
      "text/plain": [
       "14"
      ]
     },
     "execution_count": 31,
     "metadata": {},
     "output_type": "execute_result"
    }
   ],
   "source": [
    "len(model.trainable_variables)"
   ]
  },
  {
   "cell_type": "code",
   "execution_count": 32,
   "metadata": {},
   "outputs": [],
   "source": [
    "model_save_path = '/data/mwir_gun_chips/saved_models/'\n",
    "model_name = 'mwir_guns_VGG_model'                       # VGG\n",
    "#model_name = 'guns_inception_model'              # inceptionV3"
   ]
  },
  {
   "cell_type": "code",
   "execution_count": 33,
   "metadata": {},
   "outputs": [],
   "source": [
    "# Save the model according to the conditions  \n",
    "checkpoint = ModelCheckpoint(model_save_path+model_name+\"_epoch{epoch:02d}-loss{loss:.2f}.h5\", monitor='val_acc', verbose=1, save_best_only=True,  mode='max' )"
   ]
  },
  {
   "cell_type": "code",
   "execution_count": 34,
   "metadata": {},
   "outputs": [],
   "source": [
    "callbacks_list = [checkpoint]"
   ]
  },
  {
   "cell_type": "code",
   "execution_count": 35,
   "metadata": {},
   "outputs": [
    {
     "name": "stdout",
     "output_type": "stream",
     "text": [
      "Epoch 1/15\n",
      "44/45 [============================>.] - ETA: 0s - loss: 0.3426 - acc: 0.8487\n",
      "Epoch 00001: val_acc improved from -inf to 0.93750, saving model to /data/mwir_gun_chips/saved_models/mwir_guns_VGG_model_epoch01-loss0.34.h5\n",
      "45/45 [==============================] - 10s 219ms/step - loss: 0.3399 - acc: 0.8500 - val_loss: 0.1709 - val_acc: 0.9375\n",
      "Epoch 2/15\n",
      "44/45 [============================>.] - ETA: 0s - loss: 0.1532 - acc: 0.9467\n",
      "Epoch 00002: val_acc did not improve from 0.93750\n",
      "45/45 [==============================] - 7s 148ms/step - loss: 0.1512 - acc: 0.9479 - val_loss: 0.1279 - val_acc: 0.9187\n",
      "Epoch 3/15\n",
      "44/45 [============================>.] - ETA: 0s - loss: 0.1363 - acc: 0.9589\n",
      "Epoch 00003: val_acc did not improve from 0.93750\n",
      "45/45 [==============================] - 7s 148ms/step - loss: 0.1348 - acc: 0.9592 - val_loss: 0.1045 - val_acc: 0.9375\n",
      "Epoch 4/15\n",
      "44/45 [============================>.] - ETA: 0s - loss: 0.0531 - acc: 0.9805\n",
      "Epoch 00004: val_acc improved from 0.93750 to 0.99375, saving model to /data/mwir_gun_chips/saved_models/mwir_guns_VGG_model_epoch04-loss0.05.h5\n",
      "45/45 [==============================] - 7s 150ms/step - loss: 0.0544 - acc: 0.9796 - val_loss: 0.0427 - val_acc: 0.9937\n",
      "Epoch 5/15\n",
      "44/45 [============================>.] - ETA: 0s - loss: 0.1616 - acc: 0.9755\n",
      "Epoch 00005: val_acc did not improve from 0.99375\n",
      "45/45 [==============================] - 7s 145ms/step - loss: 0.1582 - acc: 0.9761 - val_loss: 0.0322 - val_acc: 0.9937\n",
      "Epoch 6/15\n",
      "44/45 [============================>.] - ETA: 0s - loss: 0.0930 - acc: 0.9748\n",
      "Epoch 00006: val_acc did not improve from 0.99375\n",
      "45/45 [==============================] - 7s 148ms/step - loss: 0.0927 - acc: 0.9746 - val_loss: 0.0356 - val_acc: 0.9937\n",
      "Epoch 7/15\n",
      "44/45 [============================>.] - ETA: 0s - loss: 0.0286 - acc: 0.9935\n",
      "Epoch 00007: val_acc did not improve from 0.99375\n",
      "45/45 [==============================] - 7s 149ms/step - loss: 0.0282 - acc: 0.9937 - val_loss: 0.0441 - val_acc: 0.9875\n",
      "Epoch 8/15\n",
      "44/45 [============================>.] - ETA: 0s - loss: 0.0546 - acc: 0.9856\n",
      "Epoch 00008: val_acc did not improve from 0.99375\n",
      "45/45 [==============================] - 7s 149ms/step - loss: 0.0544 - acc: 0.9852 - val_loss: 0.0179 - val_acc: 0.9937\n",
      "Epoch 9/15\n",
      "44/45 [============================>.] - ETA: 0s - loss: 0.0152 - acc: 0.9957\n",
      "Epoch 00009: val_acc did not improve from 0.99375\n",
      "45/45 [==============================] - 7s 147ms/step - loss: 0.0156 - acc: 0.9951 - val_loss: 0.0192 - val_acc: 0.9937\n",
      "Epoch 10/15\n",
      "44/45 [============================>.] - ETA: 0s - loss: 0.0381 - acc: 0.9922\n",
      "Epoch 00010: val_acc did not improve from 0.99375\n",
      "45/45 [==============================] - 7s 152ms/step - loss: 0.0375 - acc: 0.9924 - val_loss: 0.0141 - val_acc: 0.9937\n",
      "Epoch 11/15\n",
      "44/45 [============================>.] - ETA: 0s - loss: 0.0065 - acc: 0.9971\n",
      "Epoch 00011: val_acc did not improve from 0.99375\n",
      "45/45 [==============================] - 7s 146ms/step - loss: 0.0064 - acc: 0.9971 - val_loss: 0.0115 - val_acc: 0.9937\n",
      "Epoch 12/15\n",
      "44/45 [============================>.] - ETA: 0s - loss: 0.0310 - acc: 0.9899\n",
      "Epoch 00012: val_acc did not improve from 0.99375\n",
      "45/45 [==============================] - 7s 147ms/step - loss: 0.0304 - acc: 0.9901 - val_loss: 0.0143 - val_acc: 0.9937\n",
      "Epoch 13/15\n",
      "44/45 [============================>.] - ETA: 0s - loss: 0.0045 - acc: 0.9986\n",
      "Epoch 00013: val_acc did not improve from 0.99375\n",
      "45/45 [==============================] - 7s 148ms/step - loss: 0.0044 - acc: 0.9986 - val_loss: 0.0115 - val_acc: 0.9937\n",
      "Epoch 14/15\n",
      "44/45 [============================>.] - ETA: 0s - loss: 0.0139 - acc: 0.9950\n",
      "Epoch 00014: val_acc did not improve from 0.99375\n",
      "45/45 [==============================] - 7s 146ms/step - loss: 0.0136 - acc: 0.9951 - val_loss: 0.0082 - val_acc: 0.9937\n",
      "Epoch 15/15\n",
      "44/45 [============================>.] - ETA: 0s - loss: 0.0012 - acc: 1.0000\n",
      "Epoch 00015: val_acc did not improve from 0.99375\n",
      "45/45 [==============================] - 7s 147ms/step - loss: 0.0012 - acc: 1.0000 - val_loss: 0.0094 - val_acc: 0.9937\n"
     ]
    }
   ],
   "source": [
    "history_fine = model.fit_generator(train_generator,\n",
    "                                   steps_per_epoch = steps_per_epoch,\n",
    "                                   epochs=epochs,\n",
    "                                   #callbacks=callbacks_list,\n",
    "                                   workers=4,\n",
    "                                   validation_data=validation_generator,\n",
    "                                   validation_steps=validation_steps)"
   ]
  },
  {
   "cell_type": "markdown",
   "metadata": {},
   "source": [
    "After training we can also evaluate the new model's performance on the test-set using a single function call in the Keras API."
   ]
  },
  {
   "cell_type": "code",
   "execution_count": 36,
   "metadata": {},
   "outputs": [
    {
     "name": "stdout",
     "output_type": "stream",
     "text": [
      "Test-set classification accuracy: 99.35%\n"
     ]
    }
   ],
   "source": [
    "result = model.evaluate_generator(validation_generator, steps=steps_per_epoch)\n",
    "print(\"Test-set classification accuracy: {0:.2%}\".format(result[1]))"
   ]
  },
  {
   "cell_type": "code",
   "execution_count": 37,
   "metadata": {},
   "outputs": [],
   "source": [
    "acc += history_fine.history['acc']\n",
    "val_acc += history_fine.history['val_acc']\n",
    "\n",
    "loss += history_fine.history['loss']\n",
    "val_loss += history_fine.history['val_loss']"
   ]
  },
  {
   "cell_type": "code",
   "execution_count": 38,
   "metadata": {
    "scrolled": true
   },
   "outputs": [
    {
     "data": {
      "image/png": "[encoded data removed]",
      "text/plain": [
       "<Figure size 576x576 with 2 Axes>"
      ]
     },
     "metadata": {
      "needs_background": "light"
     },
     "output_type": "display_data"
    }
   ],
   "source": [
    "plt.figure(figsize=(8, 8))\n",
    "plt.subplot(2, 1, 1)\n",
    "plt.plot(acc, label='Training Accuracy')\n",
    "plt.plot(val_acc, label='Validation Accuracy')\n",
    "plt.ylim([0.6, 1])\n",
    "plt.plot([epochs-1,epochs-1], plt.ylim(), label='Start Fine Tuning')\n",
    "plt.legend(loc='lower right')\n",
    "plt.title('Training and Validation Accuracy')\n",
    "\n",
    "plt.subplot(2, 1, 2)\n",
    "plt.plot(loss, label='Training Loss')\n",
    "plt.plot(val_loss, label='Validation Loss')\n",
    "plt.ylim([0, 0.9])\n",
    "plt.plot([epochs-1,epochs-1], plt.ylim(), label='Start Fine Tuning')\n",
    "plt.legend(loc='upper right')\n",
    "plt.title('Training and Validation Loss')\n",
    "plt.show()\n"
   ]
  },
  {
   "cell_type": "markdown",
   "metadata": {},
   "source": [
    "## Exploring the data\n",
    "We cam explore the data to learn how we might improve training."
   ]
  },
  {
   "cell_type": "code",
   "execution_count": 39,
   "metadata": {},
   "outputs": [
    {
     "name": "stdout",
     "output_type": "stream",
     "text": [
      "/data/mwir_gun_chips/val\n"
     ]
    }
   ],
   "source": [
    "import pathlib\n",
    "\n",
    "data_root = pathlib.Path(test_dir)\n",
    "print(data_root)"
   ]
  },
  {
   "cell_type": "code",
   "execution_count": 40,
   "metadata": {},
   "outputs": [
    {
     "data": {
      "text/plain": [
       "161"
      ]
     },
     "execution_count": 40,
     "metadata": {},
     "output_type": "execute_result"
    }
   ],
   "source": [
    "## how many images are in this section (train or test) of dataset\n",
    "import random\n",
    "all_image_paths = list(data_root.glob('*/*'))\n",
    "all_image_paths = [str(path) for path in all_image_paths]\n",
    "random.shuffle(all_image_paths)\n",
    "\n",
    "image_count = len(all_image_paths)\n",
    "image_count"
   ]
  },
  {
   "cell_type": "code",
   "execution_count": 41,
   "metadata": {},
   "outputs": [
    {
     "data": {
      "text/plain": [
       "['/data/mwir_gun_chips/val/nogun/236_3533.png',\n",
       " '/data/mwir_gun_chips/val/nogun/236_3138.png',\n",
       " '/data/mwir_gun_chips/val/nogun/236_4109.png',\n",
       " '/data/mwir_gun_chips/val/nogun/236_4383.png',\n",
       " '/data/mwir_gun_chips/val/gun/252_0959.png',\n",
       " '/data/mwir_gun_chips/val/gun/236_5227.png',\n",
       " '/data/mwir_gun_chips/val/nogun/236_3064.png',\n",
       " '/data/mwir_gun_chips/val/nogun/236_5398.png']"
      ]
     },
     "execution_count": 41,
     "metadata": {},
     "output_type": "execute_result"
    }
   ],
   "source": [
    "all_image_paths[:8]"
   ]
  },
  {
   "cell_type": "code",
   "execution_count": 1,
   "metadata": {},
   "outputs": [],
   "source": [
    "# for n in range(10):\n",
    "#     image_path = random.choice(all_image_paths)\n",
    "#     img = image.load_img(image_path, target_size=(image_size, image_size))\n",
    "#     img_tensor = image.img_to_array(img)\n",
    "#     img_tensor = np.expand_dims(img_tensor, axis=0)\n",
    "#     img_tensor /= 255.\n",
    "#     pred = model.predict_proba(img_tensor)\n",
    "#     plt.imshow(img_tensor[0])\n",
    "#     plt.show()\n",
    "#     print(image_path)\n",
    "#     print('Probabililty of gun(0)/nogun(1) = ', pred)"
   ]
  },
  {
   "cell_type": "markdown",
   "metadata": {},
   "source": [
    "### Visualizing Layer Activations (TBD)\n",
    "Let's look at the output from each layer to get an idea of what is being learning."
   ]
  },
  {
   "cell_type": "code",
   "execution_count": null,
   "metadata": {},
   "outputs": [],
   "source": [
    "#image_path = '/data/gun_chips/train/gun/246_0012.png'\n",
    "#img = image.load_img(image_path, target_size=(256, 256))\n",
    "#img_tensor = image.img_to_array(img)\n",
    "#img_tensor = np.expand_dims(img_tensor, axis=0)\n",
    "#img_tensor /= 255.\n",
    "\n",
    "#classes = model.predict_classes(img_tensor)\n",
    "#print(\"Predicted class is:\",classes)"
   ]
  },
  {
   "cell_type": "code",
   "execution_count": null,
   "metadata": {},
   "outputs": [],
   "source": [
    "# from tensorflow.python.keras import models\n",
    "# layer_outputs = [layer.output for layer in base_model.layers[:2]] \n",
    "# # Extracts the outputs of the top 12 layers\n",
    "# # Creates a model that will return these outputs, given the model input\n",
    "# activation_model = models.Model(inputs=base_model.input, outputs=layer_outputs)\n",
    "\n"
   ]
  },
  {
   "cell_type": "code",
   "execution_count": null,
   "metadata": {},
   "outputs": [],
   "source": [
    "# # Run the model in predict mode\n",
    "# activations = activation_model.predict(img_tensor) \n",
    "# # Returns a list of five Numpy arrays: one array per layer activation"
   ]
  },
  {
   "cell_type": "code",
   "execution_count": null,
   "metadata": {},
   "outputs": [],
   "source": [
    "# first_layer_activation = activations[0]\n",
    "# print(first_layer_activation.shape)\n"
   ]
  },
  {
   "cell_type": "code",
   "execution_count": null,
   "metadata": {},
   "outputs": [],
   "source": [
    "# plt.matshow(first_layer_activation[0, :, :, 4], cmap='viridis')"
   ]
  },
  {
   "cell_type": "code",
   "execution_count": null,
   "metadata": {},
   "outputs": [],
   "source": [
    "# layer_names = []\n",
    "# for layer in classifier.layers[:12]:\n",
    "#     layer_names.append(layer.name) # Names of the layers, so you can have them as part of your plot\n",
    "    \n",
    "# images_per_row = 16\n",
    "\n",
    "# for layer_name, layer_activation in zip(layer_names, activations): # Displays the feature maps\n",
    "#     n_features = layer_activation.shape[-1] # Number of features in the feature map\n",
    "#     size = layer_activation.shape[1] #The feature map has shape (1, size, size, n_features).\n",
    "#     n_cols = n_features // images_per_row # Tiles the activation channels in this matrix\n",
    "#     display_grid = np.zeros((size * n_cols, images_per_row * size))\n",
    "#     for col in range(n_cols): # Tiles each filter into a big horizontal grid\n",
    "#         for row in range(images_per_row):\n",
    "#             channel_image = layer_activation[0,\n",
    "#                                              :, :,\n",
    "#                                              col * images_per_row + row]\n",
    "#             channel_image -= channel_image.mean() # Post-processes the feature to make it visually palatable\n",
    "#             channel_image /= channel_image.std()\n",
    "#             channel_image *= 64\n",
    "#             channel_image += 128\n",
    "#             channel_image = np.clip(channel_image, 0, 255).astype('uint8')\n",
    "#             display_grid[col * size : (col + 1) * size, # Displays the grid\n",
    "#                          row * size : (row + 1) * size] = channel_image\n",
    "#     scale = 1. / size\n",
    "#     plt.figure(figsize=(scale * display_grid.shape[1],\n",
    "#                         scale * display_grid.shape[0]))\n",
    "#     plt.title(layer_name)\n",
    "#     plt.grid(False)\n",
    "#     plt.imshow(display_grid, aspect='auto', cmap='viridis')"
   ]
  },
  {
   "cell_type": "markdown",
   "metadata": {},
   "source": [
    "## Example Predictions\n",
    "\n",
    "Here we will show a few examples of using our trained model for predictions."
   ]
  },
  {
   "cell_type": "code",
   "execution_count": null,
   "metadata": {},
   "outputs": [],
   "source": [
    "cls_train = train_generator.classes\n",
    "cls_test = validation_generator.classes"
   ]
  },
  {
   "cell_type": "code",
   "execution_count": null,
   "metadata": {},
   "outputs": [],
   "source": [
    "class_names = list(train_generator.class_indices.keys())\n",
    "class_names"
   ]
  },
  {
   "cell_type": "code",
   "execution_count": null,
   "metadata": {},
   "outputs": [],
   "source": [
    "num_classes = train_generator.num_classes\n",
    "num_classes"
   ]
  },
  {
   "cell_type": "code",
   "execution_count": null,
   "metadata": {},
   "outputs": [],
   "source": [
    "def predict(image_path):\n",
    "    # Load and resize the image using PIL.\n",
    "    img = PIL.Image.open(image_path)\n",
    "    img_resized = img.resize(input_shape, PIL.Image.LANCZOS)\n",
    "\n",
    "    # Plot the image.\n",
    "    plt.imshow(img_resized)\n",
    "    plt.show()\n",
    "\n",
    "    # Convert the PIL image to a numpy-array with the proper shape.\n",
    "    img_array = np.expand_dims(np.array(img_resized), axis=0)\n",
    "    rescale=1./255\n",
    "    img_scaled = img_array*rescale\n",
    "  \n",
    "\n",
    "    # Use the model to make a prediction.\n",
    "    #pred = model.predict_classes(img_array)\n",
    "    pred = model.predict_proba(img_scaled)\n",
    "   # pred = model.predict(img_array)\n",
    "    \n",
    "    # Decode the output of the VGG16 model.\n",
    "    #pred_decoded = decode_predictions(pred)[0]\n",
    "\n",
    "    # Print the predictions.\n",
    "    #for code, name, score in pred_decoded:\n",
    "    #    print(\"{0:>6.2%} : {1}\".format(score, name))\n",
    "    \n",
    "    print('Probabililty of gun(0)/nogun(1) = ', pred)\n",
    "    \n",
    "    "
   ]
  },
  {
   "cell_type": "code",
   "execution_count": null,
   "metadata": {},
   "outputs": [],
   "source": [
    " predict(image_path = '/data/gun_chips/val/nogun/250_0735.png')"
   ]
  },
  {
   "cell_type": "markdown",
   "metadata": {},
   "source": [
    "We can run prediction on any image in our dataset by selecting a path from list."
   ]
  },
  {
   "cell_type": "code",
   "execution_count": null,
   "metadata": {},
   "outputs": [],
   "source": [
    "predict(image_path='/data/gun_chips/val/gun/323.jpeg')"
   ]
  },
  {
   "cell_type": "markdown",
   "metadata": {},
   "source": [
    "## Conclusion\n",
    "\n",
    "We showed how to use the Keras API to do both Transfer Learning and Fine-Tuning of the pre-trained model on a new dataset. It is much easier to implement this using the Keras API rather than directly in TensorFlow.\n",
    "\n",
    "Whether or not, Fine-Tuning improves the classification accuracy over just using Transfer Learning depends on the pre-trained model, the transfer-layer you choose, your dataset, and how you train the new model. You may experience improved performance from the fine-tuning, or you may experience worse performance if the fine-tuned model is overfitting your training-data."
   ]
  }
 ],
 "metadata": {
  "anaconda-cloud": {},
  "kernelspec": {
   "display_name": "Python 3",
   "language": "python",
   "name": "python3"
  },
  "language_info": {
   "codemirror_mode": {
    "name": "ipython",
    "version": 3
   },
   "file_extension": ".py",
   "mimetype": "text/x-python",
   "name": "python",
   "nbconvert_exporter": "python",
   "pygments_lexer": "ipython3",
   "version": "3.6.8"
  }
 },
 "nbformat": 4,
 "nbformat_minor": 4
}
